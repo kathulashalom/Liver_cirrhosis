{
 "cells": [
  {
   "cell_type": "code",
   "execution_count": 29,
   "metadata": {
    "id": "YR0-1BZNRLWS"
   },
   "outputs": [],
   "source": [
    "import pandas as pd\n",
    "import numpy as np"
   ]
  },
  {
   "cell_type": "code",
   "execution_count": 30,
   "metadata": {
    "colab": {
     "base_uri": "https://localhost:8080/",
     "height": 530
    },
    "id": "ix8WMaZkRNxU",
    "outputId": "53bffb67-2427-4a93-f48e-ab376ed9d2a7"
   },
   "outputs": [
    {
     "data": {
      "text/html": [
       "<div>\n",
       "<style scoped>\n",
       "    .dataframe tbody tr th:only-of-type {\n",
       "        vertical-align: middle;\n",
       "    }\n",
       "\n",
       "    .dataframe tbody tr th {\n",
       "        vertical-align: top;\n",
       "    }\n",
       "\n",
       "    .dataframe thead th {\n",
       "        text-align: right;\n",
       "    }\n",
       "</style>\n",
       "<table border=\"1\" class=\"dataframe\">\n",
       "  <thead>\n",
       "    <tr style=\"text-align: right;\">\n",
       "      <th></th>\n",
       "      <th>N_Days</th>\n",
       "      <th>Status</th>\n",
       "      <th>Drug</th>\n",
       "      <th>Age</th>\n",
       "      <th>Sex</th>\n",
       "      <th>Ascites</th>\n",
       "      <th>Hepatomegaly</th>\n",
       "      <th>Spiders</th>\n",
       "      <th>Edema</th>\n",
       "      <th>Bilirubin</th>\n",
       "      <th>Cholesterol</th>\n",
       "      <th>Albumin</th>\n",
       "      <th>Copper</th>\n",
       "      <th>Alk_Phos</th>\n",
       "      <th>SGOT</th>\n",
       "      <th>Tryglicerides</th>\n",
       "      <th>Platelets</th>\n",
       "      <th>Prothrombin</th>\n",
       "      <th>Stage</th>\n",
       "    </tr>\n",
       "  </thead>\n",
       "  <tbody>\n",
       "    <tr>\n",
       "      <th>0</th>\n",
       "      <td>2221</td>\n",
       "      <td>C</td>\n",
       "      <td>Placebo</td>\n",
       "      <td>18499</td>\n",
       "      <td>F</td>\n",
       "      <td>N</td>\n",
       "      <td>Y</td>\n",
       "      <td>N</td>\n",
       "      <td>N</td>\n",
       "      <td>0.5</td>\n",
       "      <td>149.000000</td>\n",
       "      <td>4.04</td>\n",
       "      <td>227.0</td>\n",
       "      <td>598.0</td>\n",
       "      <td>52.70</td>\n",
       "      <td>57.000000</td>\n",
       "      <td>256.0</td>\n",
       "      <td>9.9</td>\n",
       "      <td>1</td>\n",
       "    </tr>\n",
       "    <tr>\n",
       "      <th>1</th>\n",
       "      <td>1230</td>\n",
       "      <td>C</td>\n",
       "      <td>Placebo</td>\n",
       "      <td>19724</td>\n",
       "      <td>M</td>\n",
       "      <td>Y</td>\n",
       "      <td>N</td>\n",
       "      <td>Y</td>\n",
       "      <td>N</td>\n",
       "      <td>0.5</td>\n",
       "      <td>219.000000</td>\n",
       "      <td>3.93</td>\n",
       "      <td>22.0</td>\n",
       "      <td>663.0</td>\n",
       "      <td>45.00</td>\n",
       "      <td>75.000000</td>\n",
       "      <td>220.0</td>\n",
       "      <td>10.8</td>\n",
       "      <td>2</td>\n",
       "    </tr>\n",
       "    <tr>\n",
       "      <th>2</th>\n",
       "      <td>4184</td>\n",
       "      <td>C</td>\n",
       "      <td>Placebo</td>\n",
       "      <td>11839</td>\n",
       "      <td>F</td>\n",
       "      <td>N</td>\n",
       "      <td>N</td>\n",
       "      <td>N</td>\n",
       "      <td>N</td>\n",
       "      <td>0.5</td>\n",
       "      <td>320.000000</td>\n",
       "      <td>3.54</td>\n",
       "      <td>51.0</td>\n",
       "      <td>1243.0</td>\n",
       "      <td>122.45</td>\n",
       "      <td>80.000000</td>\n",
       "      <td>225.0</td>\n",
       "      <td>10.0</td>\n",
       "      <td>2</td>\n",
       "    </tr>\n",
       "    <tr>\n",
       "      <th>3</th>\n",
       "      <td>2090</td>\n",
       "      <td>D</td>\n",
       "      <td>Placebo</td>\n",
       "      <td>16467</td>\n",
       "      <td>F</td>\n",
       "      <td>N</td>\n",
       "      <td>N</td>\n",
       "      <td>N</td>\n",
       "      <td>N</td>\n",
       "      <td>0.7</td>\n",
       "      <td>255.000000</td>\n",
       "      <td>3.74</td>\n",
       "      <td>23.0</td>\n",
       "      <td>1024.0</td>\n",
       "      <td>77.50</td>\n",
       "      <td>58.000000</td>\n",
       "      <td>151.0</td>\n",
       "      <td>10.2</td>\n",
       "      <td>2</td>\n",
       "    </tr>\n",
       "    <tr>\n",
       "      <th>4</th>\n",
       "      <td>2105</td>\n",
       "      <td>D</td>\n",
       "      <td>Placebo</td>\n",
       "      <td>21699</td>\n",
       "      <td>F</td>\n",
       "      <td>N</td>\n",
       "      <td>Y</td>\n",
       "      <td>N</td>\n",
       "      <td>N</td>\n",
       "      <td>1.9</td>\n",
       "      <td>486.000000</td>\n",
       "      <td>3.54</td>\n",
       "      <td>74.0</td>\n",
       "      <td>1052.0</td>\n",
       "      <td>108.50</td>\n",
       "      <td>109.000000</td>\n",
       "      <td>151.0</td>\n",
       "      <td>11.5</td>\n",
       "      <td>1</td>\n",
       "    </tr>\n",
       "    <tr>\n",
       "      <th>...</th>\n",
       "      <td>...</td>\n",
       "      <td>...</td>\n",
       "      <td>...</td>\n",
       "      <td>...</td>\n",
       "      <td>...</td>\n",
       "      <td>...</td>\n",
       "      <td>...</td>\n",
       "      <td>...</td>\n",
       "      <td>...</td>\n",
       "      <td>...</td>\n",
       "      <td>...</td>\n",
       "      <td>...</td>\n",
       "      <td>...</td>\n",
       "      <td>...</td>\n",
       "      <td>...</td>\n",
       "      <td>...</td>\n",
       "      <td>...</td>\n",
       "      <td>...</td>\n",
       "      <td>...</td>\n",
       "    </tr>\n",
       "    <tr>\n",
       "      <th>24995</th>\n",
       "      <td>3584</td>\n",
       "      <td>D</td>\n",
       "      <td>D-penicillamine</td>\n",
       "      <td>23612</td>\n",
       "      <td>F</td>\n",
       "      <td>N</td>\n",
       "      <td>N</td>\n",
       "      <td>N</td>\n",
       "      <td>N</td>\n",
       "      <td>0.8</td>\n",
       "      <td>231.000000</td>\n",
       "      <td>3.87</td>\n",
       "      <td>173.0</td>\n",
       "      <td>9009.8</td>\n",
       "      <td>127.71</td>\n",
       "      <td>96.000000</td>\n",
       "      <td>295.0</td>\n",
       "      <td>11.0</td>\n",
       "      <td>2</td>\n",
       "    </tr>\n",
       "    <tr>\n",
       "      <th>24996</th>\n",
       "      <td>3584</td>\n",
       "      <td>D</td>\n",
       "      <td>D-penicillamine</td>\n",
       "      <td>23612</td>\n",
       "      <td>F</td>\n",
       "      <td>N</td>\n",
       "      <td>N</td>\n",
       "      <td>N</td>\n",
       "      <td>N</td>\n",
       "      <td>0.8</td>\n",
       "      <td>231.000000</td>\n",
       "      <td>3.87</td>\n",
       "      <td>173.0</td>\n",
       "      <td>9009.8</td>\n",
       "      <td>127.71</td>\n",
       "      <td>96.000000</td>\n",
       "      <td>295.0</td>\n",
       "      <td>11.0</td>\n",
       "      <td>2</td>\n",
       "    </tr>\n",
       "    <tr>\n",
       "      <th>24997</th>\n",
       "      <td>971</td>\n",
       "      <td>D</td>\n",
       "      <td>D-penicillamine</td>\n",
       "      <td>16736</td>\n",
       "      <td>F</td>\n",
       "      <td>N</td>\n",
       "      <td>Y</td>\n",
       "      <td>Y</td>\n",
       "      <td>Y</td>\n",
       "      <td>5.1</td>\n",
       "      <td>369.510563</td>\n",
       "      <td>3.23</td>\n",
       "      <td>18.0</td>\n",
       "      <td>790.0</td>\n",
       "      <td>179.80</td>\n",
       "      <td>124.702128</td>\n",
       "      <td>104.0</td>\n",
       "      <td>13.0</td>\n",
       "      <td>3</td>\n",
       "    </tr>\n",
       "    <tr>\n",
       "      <th>24998</th>\n",
       "      <td>3707</td>\n",
       "      <td>C</td>\n",
       "      <td>D-penicillamine</td>\n",
       "      <td>16990</td>\n",
       "      <td>F</td>\n",
       "      <td>N</td>\n",
       "      <td>Y</td>\n",
       "      <td>N</td>\n",
       "      <td>N</td>\n",
       "      <td>0.8</td>\n",
       "      <td>315.000000</td>\n",
       "      <td>4.24</td>\n",
       "      <td>13.0</td>\n",
       "      <td>1637.0</td>\n",
       "      <td>170.50</td>\n",
       "      <td>70.000000</td>\n",
       "      <td>426.0</td>\n",
       "      <td>10.9</td>\n",
       "      <td>2</td>\n",
       "    </tr>\n",
       "    <tr>\n",
       "      <th>24999</th>\n",
       "      <td>3707</td>\n",
       "      <td>C</td>\n",
       "      <td>D-penicillamine</td>\n",
       "      <td>16990</td>\n",
       "      <td>F</td>\n",
       "      <td>N</td>\n",
       "      <td>Y</td>\n",
       "      <td>N</td>\n",
       "      <td>N</td>\n",
       "      <td>0.8</td>\n",
       "      <td>315.000000</td>\n",
       "      <td>4.24</td>\n",
       "      <td>13.0</td>\n",
       "      <td>1637.0</td>\n",
       "      <td>170.50</td>\n",
       "      <td>70.000000</td>\n",
       "      <td>426.0</td>\n",
       "      <td>10.9</td>\n",
       "      <td>2</td>\n",
       "    </tr>\n",
       "  </tbody>\n",
       "</table>\n",
       "<p>25000 rows × 19 columns</p>\n",
       "</div>"
      ],
      "text/plain": [
       "       N_Days Status             Drug    Age Sex Ascites Hepatomegaly Spiders  \\\n",
       "0        2221      C          Placebo  18499   F       N            Y       N   \n",
       "1        1230      C          Placebo  19724   M       Y            N       Y   \n",
       "2        4184      C          Placebo  11839   F       N            N       N   \n",
       "3        2090      D          Placebo  16467   F       N            N       N   \n",
       "4        2105      D          Placebo  21699   F       N            Y       N   \n",
       "...       ...    ...              ...    ...  ..     ...          ...     ...   \n",
       "24995    3584      D  D-penicillamine  23612   F       N            N       N   \n",
       "24996    3584      D  D-penicillamine  23612   F       N            N       N   \n",
       "24997     971      D  D-penicillamine  16736   F       N            Y       Y   \n",
       "24998    3707      C  D-penicillamine  16990   F       N            Y       N   \n",
       "24999    3707      C  D-penicillamine  16990   F       N            Y       N   \n",
       "\n",
       "      Edema  Bilirubin  Cholesterol  Albumin  Copper  Alk_Phos    SGOT  \\\n",
       "0         N        0.5   149.000000     4.04   227.0     598.0   52.70   \n",
       "1         N        0.5   219.000000     3.93    22.0     663.0   45.00   \n",
       "2         N        0.5   320.000000     3.54    51.0    1243.0  122.45   \n",
       "3         N        0.7   255.000000     3.74    23.0    1024.0   77.50   \n",
       "4         N        1.9   486.000000     3.54    74.0    1052.0  108.50   \n",
       "...     ...        ...          ...      ...     ...       ...     ...   \n",
       "24995     N        0.8   231.000000     3.87   173.0    9009.8  127.71   \n",
       "24996     N        0.8   231.000000     3.87   173.0    9009.8  127.71   \n",
       "24997     Y        5.1   369.510563     3.23    18.0     790.0  179.80   \n",
       "24998     N        0.8   315.000000     4.24    13.0    1637.0  170.50   \n",
       "24999     N        0.8   315.000000     4.24    13.0    1637.0  170.50   \n",
       "\n",
       "       Tryglicerides  Platelets  Prothrombin  Stage  \n",
       "0          57.000000      256.0          9.9      1  \n",
       "1          75.000000      220.0         10.8      2  \n",
       "2          80.000000      225.0         10.0      2  \n",
       "3          58.000000      151.0         10.2      2  \n",
       "4         109.000000      151.0         11.5      1  \n",
       "...              ...        ...          ...    ...  \n",
       "24995      96.000000      295.0         11.0      2  \n",
       "24996      96.000000      295.0         11.0      2  \n",
       "24997     124.702128      104.0         13.0      3  \n",
       "24998      70.000000      426.0         10.9      2  \n",
       "24999      70.000000      426.0         10.9      2  \n",
       "\n",
       "[25000 rows x 19 columns]"
      ]
     },
     "execution_count": 30,
     "metadata": {},
     "output_type": "execute_result"
    }
   ],
   "source": [
    "df= pd.read_csv('liver_cirrhosis.csv')\n",
    "df"
   ]
  },
  {
   "cell_type": "code",
   "execution_count": 31,
   "metadata": {
    "colab": {
     "base_uri": "https://localhost:8080/"
    },
    "id": "VY7s2KpTRN0V",
    "outputId": "aa514f4f-4165-46ac-b0cb-76c1d4e04c29"
   },
   "outputs": [
    {
     "name": "stdout",
     "output_type": "stream",
     "text": [
      "<class 'pandas.core.frame.DataFrame'>\n",
      "RangeIndex: 25000 entries, 0 to 24999\n",
      "Data columns (total 19 columns):\n",
      " #   Column         Non-Null Count  Dtype  \n",
      "---  ------         --------------  -----  \n",
      " 0   N_Days         25000 non-null  int64  \n",
      " 1   Status         25000 non-null  object \n",
      " 2   Drug           25000 non-null  object \n",
      " 3   Age            25000 non-null  int64  \n",
      " 4   Sex            25000 non-null  object \n",
      " 5   Ascites        25000 non-null  object \n",
      " 6   Hepatomegaly   25000 non-null  object \n",
      " 7   Spiders        25000 non-null  object \n",
      " 8   Edema          25000 non-null  object \n",
      " 9   Bilirubin      25000 non-null  float64\n",
      " 10  Cholesterol    25000 non-null  float64\n",
      " 11  Albumin        25000 non-null  float64\n",
      " 12  Copper         25000 non-null  float64\n",
      " 13  Alk_Phos       25000 non-null  float64\n",
      " 14  SGOT           25000 non-null  float64\n",
      " 15  Tryglicerides  25000 non-null  float64\n",
      " 16  Platelets      25000 non-null  float64\n",
      " 17  Prothrombin    25000 non-null  float64\n",
      " 18  Stage          25000 non-null  int64  \n",
      "dtypes: float64(9), int64(3), object(7)\n",
      "memory usage: 3.6+ MB\n"
     ]
    }
   ],
   "source": [
    "df.info()"
   ]
  },
  {
   "cell_type": "code",
   "execution_count": 32,
   "metadata": {
    "colab": {
     "base_uri": "https://localhost:8080/",
     "height": 680
    },
    "id": "hT3_yOWXRN3e",
    "outputId": "e85c7555-c17a-4cf7-e8bb-7b51d06f606d"
   },
   "outputs": [
    {
     "data": {
      "text/plain": [
       "N_Days           0.0\n",
       "Status           0.0\n",
       "Drug             0.0\n",
       "Age              0.0\n",
       "Sex              0.0\n",
       "Ascites          0.0\n",
       "Hepatomegaly     0.0\n",
       "Spiders          0.0\n",
       "Edema            0.0\n",
       "Bilirubin        0.0\n",
       "Cholesterol      0.0\n",
       "Albumin          0.0\n",
       "Copper           0.0\n",
       "Alk_Phos         0.0\n",
       "SGOT             0.0\n",
       "Tryglicerides    0.0\n",
       "Platelets        0.0\n",
       "Prothrombin      0.0\n",
       "Stage            0.0\n",
       "dtype: float64"
      ]
     },
     "execution_count": 32,
     "metadata": {},
     "output_type": "execute_result"
    }
   ],
   "source": [
    "df.isnull().sum()*100/25000"
   ]
  },
  {
   "cell_type": "code",
   "execution_count": 33,
   "metadata": {},
   "outputs": [
    {
     "name": "stdout",
     "output_type": "stream",
     "text": [
      "Requirement already satisfied: prettytable in c:\\users\\kathu\\anaconda3\\lib\\site-packages (3.11.0)\n",
      "Requirement already satisfied: wcwidth in c:\\users\\kathu\\anaconda3\\lib\\site-packages (from prettytable) (0.2.5)\n",
      "Note: you may need to restart the kernel to use updated packages.\n"
     ]
    }
   ],
   "source": [
    "pip install prettytable"
   ]
  },
  {
   "cell_type": "code",
   "execution_count": 34,
   "metadata": {},
   "outputs": [
    {
     "name": "stdout",
     "output_type": "stream",
     "text": [
      "Unique values in synthetically generated dataset : \n",
      "\n",
      "+---------------+---------------+\n",
      "|    Features   | Unique Values |\n",
      "+---------------+---------------+\n",
      "|     N_Days    |      549      |\n",
      "|     Status    |       3       |\n",
      "|      Drug     |       2       |\n",
      "|      Age      |      510      |\n",
      "|      Sex      |       2       |\n",
      "|    Ascites    |       2       |\n",
      "|  Hepatomegaly |       2       |\n",
      "|    Spiders    |       2       |\n",
      "|     Edema     |       3       |\n",
      "|   Bilirubin   |      113      |\n",
      "|  Cholesterol  |      220      |\n",
      "|    Albumin    |      179      |\n",
      "|     Copper    |      197      |\n",
      "|    Alk_Phos   |      336      |\n",
      "|      SGOT     |      240      |\n",
      "| Tryglicerides |      157      |\n",
      "|   Platelets   |      295      |\n",
      "|  Prothrombin  |       51      |\n",
      "|     Stage     |       3       |\n",
      "+---------------+---------------+\n"
     ]
    }
   ],
   "source": [
    "from prettytable import PrettyTable\n",
    "table = PrettyTable()\n",
    "table.field_names = [\"Features\",\"Unique Values\"]\n",
    "for i in list(df.columns) :\n",
    "    nunique =df[str(i)].nunique\n",
    "    table.add_row([i, f\"{nunique()}\"])\n",
    "print('Unique values in synthetically generated dataset : \\n')\n",
    "print(table)"
   ]
  },
  {
   "cell_type": "code",
   "execution_count": 35,
   "metadata": {
    "colab": {
     "base_uri": "https://localhost:8080/",
     "height": 489
    },
    "id": "AY2O_acdRN6b",
    "outputId": "358f42e7-eeec-4941-bb03-b0781e295b58"
   },
   "outputs": [
    {
     "data": {
      "text/plain": [
       "Age\n",
       "18993    493\n",
       "19724    465\n",
       "23011    411\n",
       "18263    323\n",
       "22646    295\n",
       "        ... \n",
       "18216      1\n",
       "13755      1\n",
       "17557      1\n",
       "13748      1\n",
       "17107      1\n",
       "Name: count, Length: 510, dtype: int64"
      ]
     },
     "execution_count": 35,
     "metadata": {},
     "output_type": "execute_result"
    }
   ],
   "source": [
    "age=df['Age'].value_counts()\n",
    "age"
   ]
  },
  {
   "cell_type": "code",
   "execution_count": 36,
   "metadata": {
    "id": "oVeGhn80RN9c"
   },
   "outputs": [],
   "source": [
    "df['Age'] = df['Age'] / 365"
   ]
  },
  {
   "cell_type": "code",
   "execution_count": 37,
   "metadata": {
    "id": "jnpYHYVKRODA"
   },
   "outputs": [],
   "source": [
    "df['Age'] = df['Age'].astype(int)\n"
   ]
  },
  {
   "cell_type": "code",
   "execution_count": 38,
   "metadata": {
    "colab": {
     "base_uri": "https://localhost:8080/",
     "height": 1000
    },
    "id": "avlcAwEqQBlD",
    "outputId": "17acd231-521c-4bad-b5b5-51852343b6cc"
   },
   "outputs": [
    {
     "data": {
      "text/plain": [
       "Age\n",
       "52    1351\n",
       "56    1255\n",
       "48    1107\n",
       "44    1025\n",
       "62     925\n",
       "53     908\n",
       "46     888\n",
       "50     851\n",
       "55     831\n",
       "54     790\n",
       "41     787\n",
       "51     739\n",
       "45     733\n",
       "42     724\n",
       "47     720\n",
       "40     686\n",
       "38     657\n",
       "66     642\n",
       "35     621\n",
       "49     589\n",
       "36     582\n",
       "59     567\n",
       "63     548\n",
       "33     545\n",
       "61     537\n",
       "64     505\n",
       "58     478\n",
       "67     460\n",
       "43     391\n",
       "57     360\n",
       "37     339\n",
       "69     325\n",
       "60     325\n",
       "34     320\n",
       "32     287\n",
       "70     274\n",
       "39     263\n",
       "31     189\n",
       "68     170\n",
       "30     137\n",
       "65     126\n",
       "75     115\n",
       "74      77\n",
       "29      57\n",
       "78      51\n",
       "26      35\n",
       "71      33\n",
       "28      29\n",
       "72      21\n",
       "76      21\n",
       "27       4\n",
       "Name: count, dtype: int64"
      ]
     },
     "execution_count": 38,
     "metadata": {},
     "output_type": "execute_result"
    }
   ],
   "source": [
    "age=df['Age'].value_counts()\n",
    "age"
   ]
  },
  {
   "cell_type": "code",
   "execution_count": 39,
   "metadata": {
    "colab": {
     "base_uri": "https://localhost:8080/",
     "height": 530
    },
    "id": "Yhj6ROu1ROGP",
    "outputId": "b493be14-3503-4257-f297-5cc8ba88c815"
   },
   "outputs": [
    {
     "data": {
      "text/html": [
       "<div>\n",
       "<style scoped>\n",
       "    .dataframe tbody tr th:only-of-type {\n",
       "        vertical-align: middle;\n",
       "    }\n",
       "\n",
       "    .dataframe tbody tr th {\n",
       "        vertical-align: top;\n",
       "    }\n",
       "\n",
       "    .dataframe thead th {\n",
       "        text-align: right;\n",
       "    }\n",
       "</style>\n",
       "<table border=\"1\" class=\"dataframe\">\n",
       "  <thead>\n",
       "    <tr style=\"text-align: right;\">\n",
       "      <th></th>\n",
       "      <th>N_Days</th>\n",
       "      <th>Status</th>\n",
       "      <th>Drug</th>\n",
       "      <th>Age</th>\n",
       "      <th>Sex</th>\n",
       "      <th>Ascites</th>\n",
       "      <th>Hepatomegaly</th>\n",
       "      <th>Spiders</th>\n",
       "      <th>Edema</th>\n",
       "      <th>Bilirubin</th>\n",
       "      <th>Cholesterol</th>\n",
       "      <th>Albumin</th>\n",
       "      <th>Copper</th>\n",
       "      <th>Alk_Phos</th>\n",
       "      <th>SGOT</th>\n",
       "      <th>Tryglicerides</th>\n",
       "      <th>Platelets</th>\n",
       "      <th>Prothrombin</th>\n",
       "      <th>Stage</th>\n",
       "    </tr>\n",
       "  </thead>\n",
       "  <tbody>\n",
       "    <tr>\n",
       "      <th>0</th>\n",
       "      <td>2221</td>\n",
       "      <td>C</td>\n",
       "      <td>Placebo</td>\n",
       "      <td>50</td>\n",
       "      <td>F</td>\n",
       "      <td>N</td>\n",
       "      <td>Y</td>\n",
       "      <td>N</td>\n",
       "      <td>N</td>\n",
       "      <td>0.5</td>\n",
       "      <td>149.000000</td>\n",
       "      <td>4.04</td>\n",
       "      <td>227.0</td>\n",
       "      <td>598.0</td>\n",
       "      <td>52.70</td>\n",
       "      <td>57.000000</td>\n",
       "      <td>256.0</td>\n",
       "      <td>9.9</td>\n",
       "      <td>1</td>\n",
       "    </tr>\n",
       "    <tr>\n",
       "      <th>1</th>\n",
       "      <td>1230</td>\n",
       "      <td>C</td>\n",
       "      <td>Placebo</td>\n",
       "      <td>54</td>\n",
       "      <td>M</td>\n",
       "      <td>Y</td>\n",
       "      <td>N</td>\n",
       "      <td>Y</td>\n",
       "      <td>N</td>\n",
       "      <td>0.5</td>\n",
       "      <td>219.000000</td>\n",
       "      <td>3.93</td>\n",
       "      <td>22.0</td>\n",
       "      <td>663.0</td>\n",
       "      <td>45.00</td>\n",
       "      <td>75.000000</td>\n",
       "      <td>220.0</td>\n",
       "      <td>10.8</td>\n",
       "      <td>2</td>\n",
       "    </tr>\n",
       "    <tr>\n",
       "      <th>2</th>\n",
       "      <td>4184</td>\n",
       "      <td>C</td>\n",
       "      <td>Placebo</td>\n",
       "      <td>32</td>\n",
       "      <td>F</td>\n",
       "      <td>N</td>\n",
       "      <td>N</td>\n",
       "      <td>N</td>\n",
       "      <td>N</td>\n",
       "      <td>0.5</td>\n",
       "      <td>320.000000</td>\n",
       "      <td>3.54</td>\n",
       "      <td>51.0</td>\n",
       "      <td>1243.0</td>\n",
       "      <td>122.45</td>\n",
       "      <td>80.000000</td>\n",
       "      <td>225.0</td>\n",
       "      <td>10.0</td>\n",
       "      <td>2</td>\n",
       "    </tr>\n",
       "    <tr>\n",
       "      <th>3</th>\n",
       "      <td>2090</td>\n",
       "      <td>D</td>\n",
       "      <td>Placebo</td>\n",
       "      <td>45</td>\n",
       "      <td>F</td>\n",
       "      <td>N</td>\n",
       "      <td>N</td>\n",
       "      <td>N</td>\n",
       "      <td>N</td>\n",
       "      <td>0.7</td>\n",
       "      <td>255.000000</td>\n",
       "      <td>3.74</td>\n",
       "      <td>23.0</td>\n",
       "      <td>1024.0</td>\n",
       "      <td>77.50</td>\n",
       "      <td>58.000000</td>\n",
       "      <td>151.0</td>\n",
       "      <td>10.2</td>\n",
       "      <td>2</td>\n",
       "    </tr>\n",
       "    <tr>\n",
       "      <th>4</th>\n",
       "      <td>2105</td>\n",
       "      <td>D</td>\n",
       "      <td>Placebo</td>\n",
       "      <td>59</td>\n",
       "      <td>F</td>\n",
       "      <td>N</td>\n",
       "      <td>Y</td>\n",
       "      <td>N</td>\n",
       "      <td>N</td>\n",
       "      <td>1.9</td>\n",
       "      <td>486.000000</td>\n",
       "      <td>3.54</td>\n",
       "      <td>74.0</td>\n",
       "      <td>1052.0</td>\n",
       "      <td>108.50</td>\n",
       "      <td>109.000000</td>\n",
       "      <td>151.0</td>\n",
       "      <td>11.5</td>\n",
       "      <td>1</td>\n",
       "    </tr>\n",
       "    <tr>\n",
       "      <th>...</th>\n",
       "      <td>...</td>\n",
       "      <td>...</td>\n",
       "      <td>...</td>\n",
       "      <td>...</td>\n",
       "      <td>...</td>\n",
       "      <td>...</td>\n",
       "      <td>...</td>\n",
       "      <td>...</td>\n",
       "      <td>...</td>\n",
       "      <td>...</td>\n",
       "      <td>...</td>\n",
       "      <td>...</td>\n",
       "      <td>...</td>\n",
       "      <td>...</td>\n",
       "      <td>...</td>\n",
       "      <td>...</td>\n",
       "      <td>...</td>\n",
       "      <td>...</td>\n",
       "      <td>...</td>\n",
       "    </tr>\n",
       "    <tr>\n",
       "      <th>24995</th>\n",
       "      <td>3584</td>\n",
       "      <td>D</td>\n",
       "      <td>D-penicillamine</td>\n",
       "      <td>64</td>\n",
       "      <td>F</td>\n",
       "      <td>N</td>\n",
       "      <td>N</td>\n",
       "      <td>N</td>\n",
       "      <td>N</td>\n",
       "      <td>0.8</td>\n",
       "      <td>231.000000</td>\n",
       "      <td>3.87</td>\n",
       "      <td>173.0</td>\n",
       "      <td>9009.8</td>\n",
       "      <td>127.71</td>\n",
       "      <td>96.000000</td>\n",
       "      <td>295.0</td>\n",
       "      <td>11.0</td>\n",
       "      <td>2</td>\n",
       "    </tr>\n",
       "    <tr>\n",
       "      <th>24996</th>\n",
       "      <td>3584</td>\n",
       "      <td>D</td>\n",
       "      <td>D-penicillamine</td>\n",
       "      <td>64</td>\n",
       "      <td>F</td>\n",
       "      <td>N</td>\n",
       "      <td>N</td>\n",
       "      <td>N</td>\n",
       "      <td>N</td>\n",
       "      <td>0.8</td>\n",
       "      <td>231.000000</td>\n",
       "      <td>3.87</td>\n",
       "      <td>173.0</td>\n",
       "      <td>9009.8</td>\n",
       "      <td>127.71</td>\n",
       "      <td>96.000000</td>\n",
       "      <td>295.0</td>\n",
       "      <td>11.0</td>\n",
       "      <td>2</td>\n",
       "    </tr>\n",
       "    <tr>\n",
       "      <th>24997</th>\n",
       "      <td>971</td>\n",
       "      <td>D</td>\n",
       "      <td>D-penicillamine</td>\n",
       "      <td>45</td>\n",
       "      <td>F</td>\n",
       "      <td>N</td>\n",
       "      <td>Y</td>\n",
       "      <td>Y</td>\n",
       "      <td>Y</td>\n",
       "      <td>5.1</td>\n",
       "      <td>369.510563</td>\n",
       "      <td>3.23</td>\n",
       "      <td>18.0</td>\n",
       "      <td>790.0</td>\n",
       "      <td>179.80</td>\n",
       "      <td>124.702128</td>\n",
       "      <td>104.0</td>\n",
       "      <td>13.0</td>\n",
       "      <td>3</td>\n",
       "    </tr>\n",
       "    <tr>\n",
       "      <th>24998</th>\n",
       "      <td>3707</td>\n",
       "      <td>C</td>\n",
       "      <td>D-penicillamine</td>\n",
       "      <td>46</td>\n",
       "      <td>F</td>\n",
       "      <td>N</td>\n",
       "      <td>Y</td>\n",
       "      <td>N</td>\n",
       "      <td>N</td>\n",
       "      <td>0.8</td>\n",
       "      <td>315.000000</td>\n",
       "      <td>4.24</td>\n",
       "      <td>13.0</td>\n",
       "      <td>1637.0</td>\n",
       "      <td>170.50</td>\n",
       "      <td>70.000000</td>\n",
       "      <td>426.0</td>\n",
       "      <td>10.9</td>\n",
       "      <td>2</td>\n",
       "    </tr>\n",
       "    <tr>\n",
       "      <th>24999</th>\n",
       "      <td>3707</td>\n",
       "      <td>C</td>\n",
       "      <td>D-penicillamine</td>\n",
       "      <td>46</td>\n",
       "      <td>F</td>\n",
       "      <td>N</td>\n",
       "      <td>Y</td>\n",
       "      <td>N</td>\n",
       "      <td>N</td>\n",
       "      <td>0.8</td>\n",
       "      <td>315.000000</td>\n",
       "      <td>4.24</td>\n",
       "      <td>13.0</td>\n",
       "      <td>1637.0</td>\n",
       "      <td>170.50</td>\n",
       "      <td>70.000000</td>\n",
       "      <td>426.0</td>\n",
       "      <td>10.9</td>\n",
       "      <td>2</td>\n",
       "    </tr>\n",
       "  </tbody>\n",
       "</table>\n",
       "<p>25000 rows × 19 columns</p>\n",
       "</div>"
      ],
      "text/plain": [
       "       N_Days Status             Drug  Age Sex Ascites Hepatomegaly Spiders  \\\n",
       "0        2221      C          Placebo   50   F       N            Y       N   \n",
       "1        1230      C          Placebo   54   M       Y            N       Y   \n",
       "2        4184      C          Placebo   32   F       N            N       N   \n",
       "3        2090      D          Placebo   45   F       N            N       N   \n",
       "4        2105      D          Placebo   59   F       N            Y       N   \n",
       "...       ...    ...              ...  ...  ..     ...          ...     ...   \n",
       "24995    3584      D  D-penicillamine   64   F       N            N       N   \n",
       "24996    3584      D  D-penicillamine   64   F       N            N       N   \n",
       "24997     971      D  D-penicillamine   45   F       N            Y       Y   \n",
       "24998    3707      C  D-penicillamine   46   F       N            Y       N   \n",
       "24999    3707      C  D-penicillamine   46   F       N            Y       N   \n",
       "\n",
       "      Edema  Bilirubin  Cholesterol  Albumin  Copper  Alk_Phos    SGOT  \\\n",
       "0         N        0.5   149.000000     4.04   227.0     598.0   52.70   \n",
       "1         N        0.5   219.000000     3.93    22.0     663.0   45.00   \n",
       "2         N        0.5   320.000000     3.54    51.0    1243.0  122.45   \n",
       "3         N        0.7   255.000000     3.74    23.0    1024.0   77.50   \n",
       "4         N        1.9   486.000000     3.54    74.0    1052.0  108.50   \n",
       "...     ...        ...          ...      ...     ...       ...     ...   \n",
       "24995     N        0.8   231.000000     3.87   173.0    9009.8  127.71   \n",
       "24996     N        0.8   231.000000     3.87   173.0    9009.8  127.71   \n",
       "24997     Y        5.1   369.510563     3.23    18.0     790.0  179.80   \n",
       "24998     N        0.8   315.000000     4.24    13.0    1637.0  170.50   \n",
       "24999     N        0.8   315.000000     4.24    13.0    1637.0  170.50   \n",
       "\n",
       "       Tryglicerides  Platelets  Prothrombin  Stage  \n",
       "0          57.000000      256.0          9.9      1  \n",
       "1          75.000000      220.0         10.8      2  \n",
       "2          80.000000      225.0         10.0      2  \n",
       "3          58.000000      151.0         10.2      2  \n",
       "4         109.000000      151.0         11.5      1  \n",
       "...              ...        ...          ...    ...  \n",
       "24995      96.000000      295.0         11.0      2  \n",
       "24996      96.000000      295.0         11.0      2  \n",
       "24997     124.702128      104.0         13.0      3  \n",
       "24998      70.000000      426.0         10.9      2  \n",
       "24999      70.000000      426.0         10.9      2  \n",
       "\n",
       "[25000 rows x 19 columns]"
      ]
     },
     "execution_count": 39,
     "metadata": {},
     "output_type": "execute_result"
    }
   ],
   "source": [
    "df"
   ]
  },
  {
   "cell_type": "code",
   "execution_count": 40,
   "metadata": {},
   "outputs": [],
   "source": [
    "df_expanded = df.loc[df.index.repeat(df['Age'])].reset_index(drop=True)\n",
    "df_expanded.to_csv('liver_cirrhosis_expanded.csv', index=False)"
   ]
  },
  {
   "cell_type": "code",
   "execution_count": 41,
   "metadata": {
    "colab": {
     "base_uri": "https://localhost:8080/",
     "height": 209
    },
    "id": "6rsNWkRPROJF",
    "outputId": "74fea22e-7018-4bc6-848d-fd91fb6d71e6"
   },
   "outputs": [
    {
     "data": {
      "text/plain": [
       "Stage\n",
       "2    8441\n",
       "3    8294\n",
       "1    8265\n",
       "Name: count, dtype: int64"
      ]
     },
     "execution_count": 41,
     "metadata": {},
     "output_type": "execute_result"
    }
   ],
   "source": [
    "stage=df['Stage'].value_counts()\n",
    "stage"
   ]
  },
  {
   "cell_type": "code",
   "execution_count": 42,
   "metadata": {
    "id": "vC2pC5jaROML"
   },
   "outputs": [],
   "source": [
    "cat= []\n",
    "num= []"
   ]
  },
  {
   "cell_type": "code",
   "execution_count": 43,
   "metadata": {
    "id": "ryrfVG9lROPO"
   },
   "outputs": [],
   "source": [
    "for i in df.columns:\n",
    "    if df[i].dtype== 'object':\n",
    "        cat.append(i)\n",
    "    else:\n",
    "        num.append(i)"
   ]
  },
  {
   "cell_type": "code",
   "execution_count": 44,
   "metadata": {
    "colab": {
     "base_uri": "https://localhost:8080/"
    },
    "id": "vZvYIUN6ROSK",
    "outputId": "cdea067e-d7f4-4785-e981-db046b27bf5e"
   },
   "outputs": [
    {
     "data": {
      "text/plain": [
       "['Status', 'Drug', 'Sex', 'Ascites', 'Hepatomegaly', 'Spiders', 'Edema']"
      ]
     },
     "execution_count": 44,
     "metadata": {},
     "output_type": "execute_result"
    }
   ],
   "source": [
    "cat"
   ]
  },
  {
   "cell_type": "code",
   "execution_count": 45,
   "metadata": {
    "colab": {
     "base_uri": "https://localhost:8080/"
    },
    "id": "OvTvnqbbROU_",
    "outputId": "da65ce10-04f4-47ba-b2db-82247713bd6a"
   },
   "outputs": [
    {
     "data": {
      "text/plain": [
       "['N_Days',\n",
       " 'Age',\n",
       " 'Bilirubin',\n",
       " 'Cholesterol',\n",
       " 'Albumin',\n",
       " 'Copper',\n",
       " 'Alk_Phos',\n",
       " 'SGOT',\n",
       " 'Tryglicerides',\n",
       " 'Platelets',\n",
       " 'Prothrombin',\n",
       " 'Stage']"
      ]
     },
     "execution_count": 45,
     "metadata": {},
     "output_type": "execute_result"
    }
   ],
   "source": [
    "num"
   ]
  },
  {
   "cell_type": "code",
   "execution_count": 46,
   "metadata": {
    "id": "SBSpbH8tROX4"
   },
   "outputs": [],
   "source": [
    "def outlier_detection_treatment(col):\n",
    "    q1= df[col].quantile(0.25)\n",
    "    q3= df[col].quantile(0.75)\n",
    "    iqr= q3-q1\n",
    "    lf= q1- 1.5*iqr\n",
    "    uf= q3+ 1.5*iqr\n",
    "    outliers= df[(df[col]<lf) | (df[col]>uf)]\n",
    "    print(\"Percentage of outliers in\", col ,outliers.shape[0]*100/df.shape[0])\n",
    "    fig, ax= plt.subplots(1,2, figsize=(6,4))\n",
    "    ax[0].boxplot(df[col])\n",
    "    ax[1].hist(df[col])\n",
    "    plt.suptitle(col)\n",
    "    plt.show()\n",
    "    df.loc[(df[col]<lf) | (df[col]>uf), col]= df[col].median()\n"
   ]
  },
  {
   "cell_type": "code",
   "execution_count": 47,
   "metadata": {
    "colab": {
     "base_uri": "https://localhost:8080/",
     "height": 1000
    },
    "id": "PeiXq1bBRObF",
    "outputId": "3ca4d242-5469-46f1-a99d-23abf122e662"
   },
   "outputs": [
    {
     "name": "stdout",
     "output_type": "stream",
     "text": [
      "Percentage of outliers in N_Days 0.0\n"
     ]
    },
    {
     "data": {
      "image/png": "[encoded data removed]",
      "text/plain": [
       "<Figure size 600x400 with 2 Axes>"
      ]
     },
     "metadata": {},
     "output_type": "display_data"
    },
    {
     "name": "stdout",
     "output_type": "stream",
     "text": [
      "None\n",
      "+++====+++\n",
      "Percentage of outliers in Age 0.0\n"
     ]
    },
    {
     "data": {
      "image/png": "[encoded data removed]",
      "text/plain": [
       "<Figure size 600x400 with 2 Axes>"
      ]
     },
     "metadata": {},
     "output_type": "display_data"
    },
    {
     "name": "stdout",
     "output_type": "stream",
     "text": [
      "None\n",
      "+++====+++\n",
      "Percentage of outliers in Bilirubin 13.096\n"
     ]
    },
    {
     "data": {
      "image/png": "[encoded data removed]",
      "text/plain": [
       "<Figure size 600x400 with 2 Axes>"
      ]
     },
     "metadata": {},
     "output_type": "display_data"
    },
    {
     "name": "stdout",
     "output_type": "stream",
     "text": [
      "None\n",
      "+++====+++\n",
      "Percentage of outliers in Cholesterol 9.008\n"
     ]
    },
    {
     "data": {
      "image/png": "[encoded data removed]",
      "text/plain": [
       "<Figure size 600x400 with 2 Axes>"
      ]
     },
     "metadata": {},
     "output_type": "display_data"
    },
    {
     "name": "stdout",
     "output_type": "stream",
     "text": [
      "None\n",
      "+++====+++\n",
      "Percentage of outliers in Albumin 2.98\n"
     ]
    },
    {
     "data": {
      "image/png": "[encoded data removed]",
      "text/plain": [
       "<Figure size 600x400 with 2 Axes>"
      ]
     },
     "metadata": {},
     "output_type": "display_data"
    },
    {
     "name": "stdout",
     "output_type": "stream",
     "text": [
      "None\n",
      "+++====+++\n",
      "Percentage of outliers in Copper 9.34\n"
     ]
    },
    {
     "data": {
      "image/png": "[encoded data removed]",
      "text/plain": [
       "<Figure size 600x400 with 2 Axes>"
      ]
     },
     "metadata": {},
     "output_type": "display_data"
    },
    {
     "name": "stdout",
     "output_type": "stream",
     "text": [
      "None\n",
      "+++====+++\n",
      "Percentage of outliers in Alk_Phos 8.708\n"
     ]
    },
    {
     "data": {
      "image/png": "[encoded data removed]",
      "text/plain": [
       "<Figure size 600x400 with 2 Axes>"
      ]
     },
     "metadata": {},
     "output_type": "display_data"
    },
    {
     "name": "stdout",
     "output_type": "stream",
     "text": [
      "None\n",
      "+++====+++\n",
      "Percentage of outliers in SGOT 6.972\n"
     ]
    },
    {
     "data": {
      "image/png": "[encoded data removed]",
      "text/plain": [
       "<Figure size 600x400 with 2 Axes>"
      ]
     },
     "metadata": {},
     "output_type": "display_data"
    },
    {
     "name": "stdout",
     "output_type": "stream",
     "text": [
      "None\n",
      "+++====+++\n",
      "Percentage of outliers in Tryglicerides 9.596\n"
     ]
    },
    {
     "data": {
      "image/png": "[encoded data removed]",
      "text/plain": [
       "<Figure size 600x400 with 2 Axes>"
      ]
     },
     "metadata": {},
     "output_type": "display_data"
    },
    {
     "name": "stdout",
     "output_type": "stream",
     "text": [
      "None\n",
      "+++====+++\n",
      "Percentage of outliers in Platelets 1.472\n"
     ]
    },
    {
     "data": {
      "image/png": "[encoded data removed]",
      "text/plain": [
       "<Figure size 600x400 with 2 Axes>"
      ]
     },
     "metadata": {},
     "output_type": "display_data"
    },
    {
     "name": "stdout",
     "output_type": "stream",
     "text": [
      "None\n",
      "+++====+++\n",
      "Percentage of outliers in Prothrombin 3.088\n"
     ]
    },
    {
     "data": {
      "image/png": "[encoded data removed]",
      "text/plain": [
       "<Figure size 600x400 with 2 Axes>"
      ]
     },
     "metadata": {},
     "output_type": "display_data"
    },
    {
     "name": "stdout",
     "output_type": "stream",
     "text": [
      "None\n",
      "+++====+++\n",
      "Percentage of outliers in Stage 0.0\n"
     ]
    },
    {
     "data": {
      "image/png": "[encoded data removed]",
      "text/plain": [
       "<Figure size 600x400 with 2 Axes>"
      ]
     },
     "metadata": {},
     "output_type": "display_data"
    },
    {
     "name": "stdout",
     "output_type": "stream",
     "text": [
      "None\n",
      "+++====+++\n"
     ]
    }
   ],
   "source": [
    "import matplotlib.pyplot as plt\n",
    "for col in num:\n",
    "    print(outlier_detection_treatment(col))\n",
    "    print(\"+++====+++\")"
   ]
  },
  {
   "cell_type": "code",
   "execution_count": 48,
   "metadata": {
    "id": "28rkMYu_WDgz"
   },
   "outputs": [],
   "source": [
    "import seaborn as sns\n",
    "\n",
    "def cat_analysis(col):\n",
    "    df[col].value_counts()\n",
    "    sns.countplot(x=df[col])\n",
    "    plt.show()"
   ]
  },
  {
   "cell_type": "code",
   "execution_count": 49,
   "metadata": {
    "colab": {
     "base_uri": "https://localhost:8080/",
     "height": 1000
    },
    "id": "EuSJqVe1WDjt",
    "outputId": "ca3db654-f3fa-4a61-a79e-12d265708fa8"
   },
   "outputs": [
    {
     "data": {
      "image/png": "[encoded data removed]",
      "text/plain": [
       "<Figure size 640x480 with 1 Axes>"
      ]
     },
     "metadata": {},
     "output_type": "display_data"
    },
    {
     "name": "stdout",
     "output_type": "stream",
     "text": [
      "None\n"
     ]
    },
    {
     "data": {
      "image/png": "[encoded data removed]",
      "text/plain": [
       "<Figure size 640x480 with 1 Axes>"
      ]
     },
     "metadata": {},
     "output_type": "display_data"
    },
    {
     "name": "stdout",
     "output_type": "stream",
     "text": [
      "None\n"
     ]
    },
    {
     "data": {
      "image/png": "[encoded data removed]",
      "text/plain": [
       "<Figure size 640x480 with 1 Axes>"
      ]
     },
     "metadata": {},
     "output_type": "display_data"
    },
    {
     "name": "stdout",
     "output_type": "stream",
     "text": [
      "None\n"
     ]
    },
    {
     "data": {
      "image/png": "[encoded data removed]",
      "text/plain": [
       "<Figure size 640x480 with 1 Axes>"
      ]
     },
     "metadata": {},
     "output_type": "display_data"
    },
    {
     "name": "stdout",
     "output_type": "stream",
     "text": [
      "None\n"
     ]
    },
    {
     "data": {
      "image/png": "[encoded data removed]",
      "text/plain": [
       "<Figure size 640x480 with 1 Axes>"
      ]
     },
     "metadata": {},
     "output_type": "display_data"
    },
    {
     "name": "stdout",
     "output_type": "stream",
     "text": [
      "None\n"
     ]
    },
    {
     "data": {
      "image/png": "[encoded data removed]",
      "text/plain": [
       "<Figure size 640x480 with 1 Axes>"
      ]
     },
     "metadata": {},
     "output_type": "display_data"
    },
    {
     "name": "stdout",
     "output_type": "stream",
     "text": [
      "None\n"
     ]
    },
    {
     "data": {
      "image/png": "[encoded data removed]",
      "text/plain": [
       "<Figure size 640x480 with 1 Axes>"
      ]
     },
     "metadata": {},
     "output_type": "display_data"
    },
    {
     "name": "stdout",
     "output_type": "stream",
     "text": [
      "None\n"
     ]
    }
   ],
   "source": [
    "for i in cat:\n",
    "    print(cat_analysis(i))"
   ]
  },
  {
   "cell_type": "code",
   "execution_count": 50,
   "metadata": {
    "id": "97kR0Yw0WDmU"
   },
   "outputs": [],
   "source": [
    "df = df.drop('Edema', axis=1)"
   ]
  },
  {
   "cell_type": "code",
   "execution_count": 51,
   "metadata": {
    "id": "USoehpBHWDpE"
   },
   "outputs": [],
   "source": [
    "df = df.drop('Sex', axis=1)"
   ]
  },
  {
   "cell_type": "code",
   "execution_count": 52,
   "metadata": {
    "colab": {
     "base_uri": "https://localhost:8080/",
     "height": 425
    },
    "id": "xIVeBUq-WDr9",
    "outputId": "62c9bbce-6571-45db-e91d-f5d382615099"
   },
   "outputs": [
    {
     "data": {
      "text/html": [
       "<div>\n",
       "<style scoped>\n",
       "    .dataframe tbody tr th:only-of-type {\n",
       "        vertical-align: middle;\n",
       "    }\n",
       "\n",
       "    .dataframe tbody tr th {\n",
       "        vertical-align: top;\n",
       "    }\n",
       "\n",
       "    .dataframe thead th {\n",
       "        text-align: right;\n",
       "    }\n",
       "</style>\n",
       "<table border=\"1\" class=\"dataframe\">\n",
       "  <thead>\n",
       "    <tr style=\"text-align: right;\">\n",
       "      <th></th>\n",
       "      <th>N_Days</th>\n",
       "      <th>Age</th>\n",
       "      <th>Bilirubin</th>\n",
       "      <th>Cholesterol</th>\n",
       "      <th>Albumin</th>\n",
       "      <th>Copper</th>\n",
       "      <th>Alk_Phos</th>\n",
       "      <th>SGOT</th>\n",
       "      <th>Tryglicerides</th>\n",
       "      <th>Platelets</th>\n",
       "      <th>Prothrombin</th>\n",
       "      <th>Stage</th>\n",
       "    </tr>\n",
       "  </thead>\n",
       "  <tbody>\n",
       "    <tr>\n",
       "      <th>N_Days</th>\n",
       "      <td>1.000000</td>\n",
       "      <td>-0.061753</td>\n",
       "      <td>-0.236443</td>\n",
       "      <td>-0.063065</td>\n",
       "      <td>0.349607</td>\n",
       "      <td>-0.265726</td>\n",
       "      <td>-0.138673</td>\n",
       "      <td>-0.253286</td>\n",
       "      <td>-0.178473</td>\n",
       "      <td>0.124778</td>\n",
       "      <td>-0.162115</td>\n",
       "      <td>-0.309484</td>\n",
       "    </tr>\n",
       "    <tr>\n",
       "      <th>Age</th>\n",
       "      <td>-0.061753</td>\n",
       "      <td>1.000000</td>\n",
       "      <td>-0.023534</td>\n",
       "      <td>0.020694</td>\n",
       "      <td>-0.090136</td>\n",
       "      <td>-0.006866</td>\n",
       "      <td>0.007579</td>\n",
       "      <td>0.038630</td>\n",
       "      <td>0.044518</td>\n",
       "      <td>-0.162793</td>\n",
       "      <td>0.029059</td>\n",
       "      <td>0.164968</td>\n",
       "    </tr>\n",
       "    <tr>\n",
       "      <th>Bilirubin</th>\n",
       "      <td>-0.236443</td>\n",
       "      <td>-0.023534</td>\n",
       "      <td>1.000000</td>\n",
       "      <td>0.122290</td>\n",
       "      <td>-0.162945</td>\n",
       "      <td>0.317518</td>\n",
       "      <td>0.174018</td>\n",
       "      <td>0.275011</td>\n",
       "      <td>0.156592</td>\n",
       "      <td>-0.077217</td>\n",
       "      <td>0.136734</td>\n",
       "      <td>0.191841</td>\n",
       "    </tr>\n",
       "    <tr>\n",
       "      <th>Cholesterol</th>\n",
       "      <td>-0.063065</td>\n",
       "      <td>0.020694</td>\n",
       "      <td>0.122290</td>\n",
       "      <td>1.000000</td>\n",
       "      <td>-0.078587</td>\n",
       "      <td>0.146813</td>\n",
       "      <td>0.394945</td>\n",
       "      <td>0.257282</td>\n",
       "      <td>0.352969</td>\n",
       "      <td>0.019459</td>\n",
       "      <td>-0.016764</td>\n",
       "      <td>-0.020080</td>\n",
       "    </tr>\n",
       "    <tr>\n",
       "      <th>Albumin</th>\n",
       "      <td>0.349607</td>\n",
       "      <td>-0.090136</td>\n",
       "      <td>-0.162945</td>\n",
       "      <td>-0.078587</td>\n",
       "      <td>1.000000</td>\n",
       "      <td>-0.194300</td>\n",
       "      <td>-0.192989</td>\n",
       "      <td>-0.167805</td>\n",
       "      <td>-0.148149</td>\n",
       "      <td>0.136096</td>\n",
       "      <td>-0.231356</td>\n",
       "      <td>-0.192958</td>\n",
       "    </tr>\n",
       "    <tr>\n",
       "      <th>Copper</th>\n",
       "      <td>-0.265726</td>\n",
       "      <td>-0.006866</td>\n",
       "      <td>0.317518</td>\n",
       "      <td>0.146813</td>\n",
       "      <td>-0.194300</td>\n",
       "      <td>1.000000</td>\n",
       "      <td>0.219569</td>\n",
       "      <td>0.257471</td>\n",
       "      <td>0.330776</td>\n",
       "      <td>-0.068734</td>\n",
       "      <td>0.144777</td>\n",
       "      <td>0.043390</td>\n",
       "    </tr>\n",
       "    <tr>\n",
       "      <th>Alk_Phos</th>\n",
       "      <td>-0.138673</td>\n",
       "      <td>0.007579</td>\n",
       "      <td>0.174018</td>\n",
       "      <td>0.394945</td>\n",
       "      <td>-0.192989</td>\n",
       "      <td>0.219569</td>\n",
       "      <td>1.000000</td>\n",
       "      <td>0.355808</td>\n",
       "      <td>0.321451</td>\n",
       "      <td>-0.009637</td>\n",
       "      <td>0.111926</td>\n",
       "      <td>0.126757</td>\n",
       "    </tr>\n",
       "    <tr>\n",
       "      <th>SGOT</th>\n",
       "      <td>-0.253286</td>\n",
       "      <td>0.038630</td>\n",
       "      <td>0.275011</td>\n",
       "      <td>0.257282</td>\n",
       "      <td>-0.167805</td>\n",
       "      <td>0.257471</td>\n",
       "      <td>0.355808</td>\n",
       "      <td>1.000000</td>\n",
       "      <td>0.188874</td>\n",
       "      <td>-0.105844</td>\n",
       "      <td>0.131951</td>\n",
       "      <td>0.191892</td>\n",
       "    </tr>\n",
       "    <tr>\n",
       "      <th>Tryglicerides</th>\n",
       "      <td>-0.178473</td>\n",
       "      <td>0.044518</td>\n",
       "      <td>0.156592</td>\n",
       "      <td>0.352969</td>\n",
       "      <td>-0.148149</td>\n",
       "      <td>0.330776</td>\n",
       "      <td>0.321451</td>\n",
       "      <td>0.188874</td>\n",
       "      <td>1.000000</td>\n",
       "      <td>-0.048328</td>\n",
       "      <td>0.008221</td>\n",
       "      <td>0.075886</td>\n",
       "    </tr>\n",
       "    <tr>\n",
       "      <th>Platelets</th>\n",
       "      <td>0.124778</td>\n",
       "      <td>-0.162793</td>\n",
       "      <td>-0.077217</td>\n",
       "      <td>0.019459</td>\n",
       "      <td>0.136096</td>\n",
       "      <td>-0.068734</td>\n",
       "      <td>-0.009637</td>\n",
       "      <td>-0.105844</td>\n",
       "      <td>-0.048328</td>\n",
       "      <td>1.000000</td>\n",
       "      <td>-0.183018</td>\n",
       "      <td>-0.246934</td>\n",
       "    </tr>\n",
       "    <tr>\n",
       "      <th>Prothrombin</th>\n",
       "      <td>-0.162115</td>\n",
       "      <td>0.029059</td>\n",
       "      <td>0.136734</td>\n",
       "      <td>-0.016764</td>\n",
       "      <td>-0.231356</td>\n",
       "      <td>0.144777</td>\n",
       "      <td>0.111926</td>\n",
       "      <td>0.131951</td>\n",
       "      <td>0.008221</td>\n",
       "      <td>-0.183018</td>\n",
       "      <td>1.000000</td>\n",
       "      <td>0.302630</td>\n",
       "    </tr>\n",
       "    <tr>\n",
       "      <th>Stage</th>\n",
       "      <td>-0.309484</td>\n",
       "      <td>0.164968</td>\n",
       "      <td>0.191841</td>\n",
       "      <td>-0.020080</td>\n",
       "      <td>-0.192958</td>\n",
       "      <td>0.043390</td>\n",
       "      <td>0.126757</td>\n",
       "      <td>0.191892</td>\n",
       "      <td>0.075886</td>\n",
       "      <td>-0.246934</td>\n",
       "      <td>0.302630</td>\n",
       "      <td>1.000000</td>\n",
       "    </tr>\n",
       "  </tbody>\n",
       "</table>\n",
       "</div>"
      ],
      "text/plain": [
       "                 N_Days       Age  Bilirubin  Cholesterol   Albumin    Copper  \\\n",
       "N_Days         1.000000 -0.061753  -0.236443    -0.063065  0.349607 -0.265726   \n",
       "Age           -0.061753  1.000000  -0.023534     0.020694 -0.090136 -0.006866   \n",
       "Bilirubin     -0.236443 -0.023534   1.000000     0.122290 -0.162945  0.317518   \n",
       "Cholesterol   -0.063065  0.020694   0.122290     1.000000 -0.078587  0.146813   \n",
       "Albumin        0.349607 -0.090136  -0.162945    -0.078587  1.000000 -0.194300   \n",
       "Copper        -0.265726 -0.006866   0.317518     0.146813 -0.194300  1.000000   \n",
       "Alk_Phos      -0.138673  0.007579   0.174018     0.394945 -0.192989  0.219569   \n",
       "SGOT          -0.253286  0.038630   0.275011     0.257282 -0.167805  0.257471   \n",
       "Tryglicerides -0.178473  0.044518   0.156592     0.352969 -0.148149  0.330776   \n",
       "Platelets      0.124778 -0.162793  -0.077217     0.019459  0.136096 -0.068734   \n",
       "Prothrombin   -0.162115  0.029059   0.136734    -0.016764 -0.231356  0.144777   \n",
       "Stage         -0.309484  0.164968   0.191841    -0.020080 -0.192958  0.043390   \n",
       "\n",
       "               Alk_Phos      SGOT  Tryglicerides  Platelets  Prothrombin  \\\n",
       "N_Days        -0.138673 -0.253286      -0.178473   0.124778    -0.162115   \n",
       "Age            0.007579  0.038630       0.044518  -0.162793     0.029059   \n",
       "Bilirubin      0.174018  0.275011       0.156592  -0.077217     0.136734   \n",
       "Cholesterol    0.394945  0.257282       0.352969   0.019459    -0.016764   \n",
       "Albumin       -0.192989 -0.167805      -0.148149   0.136096    -0.231356   \n",
       "Copper         0.219569  0.257471       0.330776  -0.068734     0.144777   \n",
       "Alk_Phos       1.000000  0.355808       0.321451  -0.009637     0.111926   \n",
       "SGOT           0.355808  1.000000       0.188874  -0.105844     0.131951   \n",
       "Tryglicerides  0.321451  0.188874       1.000000  -0.048328     0.008221   \n",
       "Platelets     -0.009637 -0.105844      -0.048328   1.000000    -0.183018   \n",
       "Prothrombin    0.111926  0.131951       0.008221  -0.183018     1.000000   \n",
       "Stage          0.126757  0.191892       0.075886  -0.246934     0.302630   \n",
       "\n",
       "                  Stage  \n",
       "N_Days        -0.309484  \n",
       "Age            0.164968  \n",
       "Bilirubin      0.191841  \n",
       "Cholesterol   -0.020080  \n",
       "Albumin       -0.192958  \n",
       "Copper         0.043390  \n",
       "Alk_Phos       0.126757  \n",
       "SGOT           0.191892  \n",
       "Tryglicerides  0.075886  \n",
       "Platelets     -0.246934  \n",
       "Prothrombin    0.302630  \n",
       "Stage          1.000000  "
      ]
     },
     "execution_count": 52,
     "metadata": {},
     "output_type": "execute_result"
    }
   ],
   "source": [
    "df.loc[:, num].corr()"
   ]
  },
  {
   "cell_type": "code",
   "execution_count": 53,
   "metadata": {
    "id": "ukiaZ-xkWDuz"
   },
   "outputs": [],
   "source": [
    "import seaborn as sns"
   ]
  },
  {
   "cell_type": "code",
   "execution_count": 54,
   "metadata": {
    "colab": {
     "base_uri": "https://localhost:8080/",
     "height": 526
    },
    "id": "7zXkftMzWDx1",
    "outputId": "8cdab74e-8b3d-45ec-faf9-6170cf6a5505"
   },
   "outputs": [
    {
     "data": {
      "text/plain": [
       "<Axes: >"
      ]
     },
     "execution_count": 54,
     "metadata": {},
     "output_type": "execute_result"
    },
    {
     "data": {
      "image/png": "[encoded data removed]",
      "text/plain": [
       "<Figure size 640x480 with 2 Axes>"
      ]
     },
     "metadata": {},
     "output_type": "display_data"
    }
   ],
   "source": [
    "sns.heatmap(df.loc[:, num].corr())"
   ]
  },
  {
   "cell_type": "code",
   "execution_count": 55,
   "metadata": {
    "colab": {
     "base_uri": "https://localhost:8080/"
    },
    "id": "ruxip8Y8WD0o",
    "outputId": "ce297bd5-fe62-44de-cf3d-9322c7e9a1a2"
   },
   "outputs": [
    {
     "name": "stdout",
     "output_type": "stream",
     "text": [
      "Status ['C' 'D' 'CL']\n",
      "\n",
      "\n",
      "Drug ['Placebo' 'D-penicillamine']\n",
      "\n",
      "\n",
      "Ascites ['N' 'Y']\n",
      "\n",
      "\n",
      "Hepatomegaly ['Y' 'N']\n",
      "\n",
      "\n",
      "Spiders ['N' 'Y']\n",
      "\n",
      "\n"
     ]
    }
   ],
   "source": [
    "for i in df.columns:\n",
    "    if (df[i].dtype=='object'):\n",
    "        print(i, df[i].unique())\n",
    "        print()\n",
    "        print()"
   ]
  },
  {
   "cell_type": "code",
   "execution_count": 56,
   "metadata": {
    "id": "FHj8xHlWWD3e"
   },
   "outputs": [],
   "source": [
    "from sklearn.preprocessing import LabelEncoder, OneHotEncoder"
   ]
  },
  {
   "cell_type": "code",
   "execution_count": 57,
   "metadata": {
    "id": "Ez87q2yXWD61"
   },
   "outputs": [],
   "source": [
    "Spiders= LabelEncoder()\n",
    "Hepatomegaly= LabelEncoder()\n",
    "Ascites= LabelEncoder()\n",
    "Drug= LabelEncoder()"
   ]
  },
  {
   "cell_type": "code",
   "execution_count": 58,
   "metadata": {
    "id": "8Hnww7CWWD81"
   },
   "outputs": [],
   "source": [
    "df['Spiders']= Spiders.fit_transform(df['Spiders'])"
   ]
  },
  {
   "cell_type": "code",
   "execution_count": 59,
   "metadata": {
    "id": "rB8w-NHzWD_Y"
   },
   "outputs": [],
   "source": [
    "df['Hepatomegaly']= Hepatomegaly.fit_transform(df['Hepatomegaly'])"
   ]
  },
  {
   "cell_type": "code",
   "execution_count": 60,
   "metadata": {
    "id": "utPIInc_WEC2"
   },
   "outputs": [],
   "source": [
    "df['Ascites']= Ascites.fit_transform(df['Ascites'])"
   ]
  },
  {
   "cell_type": "code",
   "execution_count": 61,
   "metadata": {
    "id": "aEHBE6WKWEGD"
   },
   "outputs": [],
   "source": [
    "df['Drug']= Drug.fit_transform(df['Drug'])"
   ]
  },
  {
   "cell_type": "code",
   "execution_count": 62,
   "metadata": {
    "colab": {
     "base_uri": "https://localhost:8080/",
     "height": 423
    },
    "id": "iMkvbZY5WEJV",
    "outputId": "39473544-fd56-496c-d287-913af7d5947a"
   },
   "outputs": [
    {
     "data": {
      "text/html": [
       "<div>\n",
       "<style scoped>\n",
       "    .dataframe tbody tr th:only-of-type {\n",
       "        vertical-align: middle;\n",
       "    }\n",
       "\n",
       "    .dataframe tbody tr th {\n",
       "        vertical-align: top;\n",
       "    }\n",
       "\n",
       "    .dataframe thead th {\n",
       "        text-align: right;\n",
       "    }\n",
       "</style>\n",
       "<table border=\"1\" class=\"dataframe\">\n",
       "  <thead>\n",
       "    <tr style=\"text-align: right;\">\n",
       "      <th></th>\n",
       "      <th>N_Days</th>\n",
       "      <th>Status</th>\n",
       "      <th>Drug</th>\n",
       "      <th>Age</th>\n",
       "      <th>Ascites</th>\n",
       "      <th>Hepatomegaly</th>\n",
       "      <th>Spiders</th>\n",
       "      <th>Bilirubin</th>\n",
       "      <th>Cholesterol</th>\n",
       "      <th>Albumin</th>\n",
       "      <th>Copper</th>\n",
       "      <th>Alk_Phos</th>\n",
       "      <th>SGOT</th>\n",
       "      <th>Tryglicerides</th>\n",
       "      <th>Platelets</th>\n",
       "      <th>Prothrombin</th>\n",
       "      <th>Stage</th>\n",
       "    </tr>\n",
       "  </thead>\n",
       "  <tbody>\n",
       "    <tr>\n",
       "      <th>0</th>\n",
       "      <td>2221</td>\n",
       "      <td>C</td>\n",
       "      <td>1</td>\n",
       "      <td>50</td>\n",
       "      <td>0</td>\n",
       "      <td>1</td>\n",
       "      <td>0</td>\n",
       "      <td>0.5</td>\n",
       "      <td>149.000000</td>\n",
       "      <td>4.04</td>\n",
       "      <td>97.648387</td>\n",
       "      <td>598.0</td>\n",
       "      <td>52.70</td>\n",
       "      <td>57.000000</td>\n",
       "      <td>256.0</td>\n",
       "      <td>9.9</td>\n",
       "      <td>1</td>\n",
       "    </tr>\n",
       "    <tr>\n",
       "      <th>1</th>\n",
       "      <td>1230</td>\n",
       "      <td>C</td>\n",
       "      <td>1</td>\n",
       "      <td>54</td>\n",
       "      <td>1</td>\n",
       "      <td>0</td>\n",
       "      <td>1</td>\n",
       "      <td>0.5</td>\n",
       "      <td>219.000000</td>\n",
       "      <td>3.93</td>\n",
       "      <td>22.000000</td>\n",
       "      <td>663.0</td>\n",
       "      <td>45.00</td>\n",
       "      <td>75.000000</td>\n",
       "      <td>220.0</td>\n",
       "      <td>10.8</td>\n",
       "      <td>2</td>\n",
       "    </tr>\n",
       "    <tr>\n",
       "      <th>2</th>\n",
       "      <td>4184</td>\n",
       "      <td>C</td>\n",
       "      <td>1</td>\n",
       "      <td>32</td>\n",
       "      <td>0</td>\n",
       "      <td>0</td>\n",
       "      <td>0</td>\n",
       "      <td>0.5</td>\n",
       "      <td>320.000000</td>\n",
       "      <td>3.54</td>\n",
       "      <td>51.000000</td>\n",
       "      <td>1243.0</td>\n",
       "      <td>122.45</td>\n",
       "      <td>80.000000</td>\n",
       "      <td>225.0</td>\n",
       "      <td>10.0</td>\n",
       "      <td>2</td>\n",
       "    </tr>\n",
       "    <tr>\n",
       "      <th>3</th>\n",
       "      <td>2090</td>\n",
       "      <td>D</td>\n",
       "      <td>1</td>\n",
       "      <td>45</td>\n",
       "      <td>0</td>\n",
       "      <td>0</td>\n",
       "      <td>0</td>\n",
       "      <td>0.7</td>\n",
       "      <td>255.000000</td>\n",
       "      <td>3.74</td>\n",
       "      <td>23.000000</td>\n",
       "      <td>1024.0</td>\n",
       "      <td>77.50</td>\n",
       "      <td>58.000000</td>\n",
       "      <td>151.0</td>\n",
       "      <td>10.2</td>\n",
       "      <td>2</td>\n",
       "    </tr>\n",
       "    <tr>\n",
       "      <th>4</th>\n",
       "      <td>2105</td>\n",
       "      <td>D</td>\n",
       "      <td>1</td>\n",
       "      <td>59</td>\n",
       "      <td>0</td>\n",
       "      <td>1</td>\n",
       "      <td>0</td>\n",
       "      <td>1.9</td>\n",
       "      <td>486.000000</td>\n",
       "      <td>3.54</td>\n",
       "      <td>74.000000</td>\n",
       "      <td>1052.0</td>\n",
       "      <td>108.50</td>\n",
       "      <td>109.000000</td>\n",
       "      <td>151.0</td>\n",
       "      <td>11.5</td>\n",
       "      <td>1</td>\n",
       "    </tr>\n",
       "    <tr>\n",
       "      <th>...</th>\n",
       "      <td>...</td>\n",
       "      <td>...</td>\n",
       "      <td>...</td>\n",
       "      <td>...</td>\n",
       "      <td>...</td>\n",
       "      <td>...</td>\n",
       "      <td>...</td>\n",
       "      <td>...</td>\n",
       "      <td>...</td>\n",
       "      <td>...</td>\n",
       "      <td>...</td>\n",
       "      <td>...</td>\n",
       "      <td>...</td>\n",
       "      <td>...</td>\n",
       "      <td>...</td>\n",
       "      <td>...</td>\n",
       "      <td>...</td>\n",
       "    </tr>\n",
       "    <tr>\n",
       "      <th>24995</th>\n",
       "      <td>3584</td>\n",
       "      <td>D</td>\n",
       "      <td>0</td>\n",
       "      <td>64</td>\n",
       "      <td>0</td>\n",
       "      <td>0</td>\n",
       "      <td>0</td>\n",
       "      <td>0.8</td>\n",
       "      <td>231.000000</td>\n",
       "      <td>3.87</td>\n",
       "      <td>173.000000</td>\n",
       "      <td>1828.0</td>\n",
       "      <td>127.71</td>\n",
       "      <td>96.000000</td>\n",
       "      <td>295.0</td>\n",
       "      <td>11.0</td>\n",
       "      <td>2</td>\n",
       "    </tr>\n",
       "    <tr>\n",
       "      <th>24996</th>\n",
       "      <td>3584</td>\n",
       "      <td>D</td>\n",
       "      <td>0</td>\n",
       "      <td>64</td>\n",
       "      <td>0</td>\n",
       "      <td>0</td>\n",
       "      <td>0</td>\n",
       "      <td>0.8</td>\n",
       "      <td>231.000000</td>\n",
       "      <td>3.87</td>\n",
       "      <td>173.000000</td>\n",
       "      <td>1828.0</td>\n",
       "      <td>127.71</td>\n",
       "      <td>96.000000</td>\n",
       "      <td>295.0</td>\n",
       "      <td>11.0</td>\n",
       "      <td>2</td>\n",
       "    </tr>\n",
       "    <tr>\n",
       "      <th>24997</th>\n",
       "      <td>971</td>\n",
       "      <td>D</td>\n",
       "      <td>0</td>\n",
       "      <td>45</td>\n",
       "      <td>0</td>\n",
       "      <td>1</td>\n",
       "      <td>1</td>\n",
       "      <td>5.1</td>\n",
       "      <td>369.510563</td>\n",
       "      <td>3.23</td>\n",
       "      <td>18.000000</td>\n",
       "      <td>790.0</td>\n",
       "      <td>179.80</td>\n",
       "      <td>124.702128</td>\n",
       "      <td>104.0</td>\n",
       "      <td>10.6</td>\n",
       "      <td>3</td>\n",
       "    </tr>\n",
       "    <tr>\n",
       "      <th>24998</th>\n",
       "      <td>3707</td>\n",
       "      <td>C</td>\n",
       "      <td>0</td>\n",
       "      <td>46</td>\n",
       "      <td>0</td>\n",
       "      <td>1</td>\n",
       "      <td>0</td>\n",
       "      <td>0.8</td>\n",
       "      <td>315.000000</td>\n",
       "      <td>4.24</td>\n",
       "      <td>13.000000</td>\n",
       "      <td>1637.0</td>\n",
       "      <td>170.50</td>\n",
       "      <td>70.000000</td>\n",
       "      <td>426.0</td>\n",
       "      <td>10.9</td>\n",
       "      <td>2</td>\n",
       "    </tr>\n",
       "    <tr>\n",
       "      <th>24999</th>\n",
       "      <td>3707</td>\n",
       "      <td>C</td>\n",
       "      <td>0</td>\n",
       "      <td>46</td>\n",
       "      <td>0</td>\n",
       "      <td>1</td>\n",
       "      <td>0</td>\n",
       "      <td>0.8</td>\n",
       "      <td>315.000000</td>\n",
       "      <td>4.24</td>\n",
       "      <td>13.000000</td>\n",
       "      <td>1637.0</td>\n",
       "      <td>170.50</td>\n",
       "      <td>70.000000</td>\n",
       "      <td>426.0</td>\n",
       "      <td>10.9</td>\n",
       "      <td>2</td>\n",
       "    </tr>\n",
       "  </tbody>\n",
       "</table>\n",
       "<p>25000 rows × 17 columns</p>\n",
       "</div>"
      ],
      "text/plain": [
       "       N_Days Status  Drug  Age  Ascites  Hepatomegaly  Spiders  Bilirubin  \\\n",
       "0        2221      C     1   50        0             1        0        0.5   \n",
       "1        1230      C     1   54        1             0        1        0.5   \n",
       "2        4184      C     1   32        0             0        0        0.5   \n",
       "3        2090      D     1   45        0             0        0        0.7   \n",
       "4        2105      D     1   59        0             1        0        1.9   \n",
       "...       ...    ...   ...  ...      ...           ...      ...        ...   \n",
       "24995    3584      D     0   64        0             0        0        0.8   \n",
       "24996    3584      D     0   64        0             0        0        0.8   \n",
       "24997     971      D     0   45        0             1        1        5.1   \n",
       "24998    3707      C     0   46        0             1        0        0.8   \n",
       "24999    3707      C     0   46        0             1        0        0.8   \n",
       "\n",
       "       Cholesterol  Albumin      Copper  Alk_Phos    SGOT  Tryglicerides  \\\n",
       "0       149.000000     4.04   97.648387     598.0   52.70      57.000000   \n",
       "1       219.000000     3.93   22.000000     663.0   45.00      75.000000   \n",
       "2       320.000000     3.54   51.000000    1243.0  122.45      80.000000   \n",
       "3       255.000000     3.74   23.000000    1024.0   77.50      58.000000   \n",
       "4       486.000000     3.54   74.000000    1052.0  108.50     109.000000   \n",
       "...            ...      ...         ...       ...     ...            ...   \n",
       "24995   231.000000     3.87  173.000000    1828.0  127.71      96.000000   \n",
       "24996   231.000000     3.87  173.000000    1828.0  127.71      96.000000   \n",
       "24997   369.510563     3.23   18.000000     790.0  179.80     124.702128   \n",
       "24998   315.000000     4.24   13.000000    1637.0  170.50      70.000000   \n",
       "24999   315.000000     4.24   13.000000    1637.0  170.50      70.000000   \n",
       "\n",
       "       Platelets  Prothrombin  Stage  \n",
       "0          256.0          9.9      1  \n",
       "1          220.0         10.8      2  \n",
       "2          225.0         10.0      2  \n",
       "3          151.0         10.2      2  \n",
       "4          151.0         11.5      1  \n",
       "...          ...          ...    ...  \n",
       "24995      295.0         11.0      2  \n",
       "24996      295.0         11.0      2  \n",
       "24997      104.0         10.6      3  \n",
       "24998      426.0         10.9      2  \n",
       "24999      426.0         10.9      2  \n",
       "\n",
       "[25000 rows x 17 columns]"
      ]
     },
     "execution_count": 62,
     "metadata": {},
     "output_type": "execute_result"
    }
   ],
   "source": [
    "df"
   ]
  },
  {
   "cell_type": "code",
   "execution_count": 63,
   "metadata": {
    "id": "YTr19kPlWEM4"
   },
   "outputs": [],
   "source": [
    "from sklearn.preprocessing import OneHotEncoder\n",
    "\n",
    "Status = OneHotEncoder(sparse_output=False)\n"
   ]
  },
  {
   "cell_type": "code",
   "execution_count": 64,
   "metadata": {
    "colab": {
     "base_uri": "https://localhost:8080/"
    },
    "id": "WU4KYqIUZEKp",
    "outputId": "87e7bd19-60c5-4b95-a1d0-4c113371edbb"
   },
   "outputs": [],
   "source": [
    "s_ohe= Status.fit_transform(df[['Status']])"
   ]
  },
  {
   "cell_type": "code",
   "execution_count": 65,
   "metadata": {
    "colab": {
     "base_uri": "https://localhost:8080/",
     "height": 423
    },
    "id": "US29qBupYyU4",
    "outputId": "5d9163a2-ad93-4663-f69f-49bf2ffe1e96"
   },
   "outputs": [
    {
     "data": {
      "text/html": [
       "<div>\n",
       "<style scoped>\n",
       "    .dataframe tbody tr th:only-of-type {\n",
       "        vertical-align: middle;\n",
       "    }\n",
       "\n",
       "    .dataframe tbody tr th {\n",
       "        vertical-align: top;\n",
       "    }\n",
       "\n",
       "    .dataframe thead tr th {\n",
       "        text-align: left;\n",
       "    }\n",
       "</style>\n",
       "<table border=\"1\" class=\"dataframe\">\n",
       "  <thead>\n",
       "    <tr>\n",
       "      <th></th>\n",
       "      <th>CL</th>\n",
       "      <th>D</th>\n",
       "    </tr>\n",
       "  </thead>\n",
       "  <tbody>\n",
       "    <tr>\n",
       "      <th>0</th>\n",
       "      <td>0.0</td>\n",
       "      <td>0.0</td>\n",
       "    </tr>\n",
       "    <tr>\n",
       "      <th>1</th>\n",
       "      <td>0.0</td>\n",
       "      <td>0.0</td>\n",
       "    </tr>\n",
       "    <tr>\n",
       "      <th>2</th>\n",
       "      <td>0.0</td>\n",
       "      <td>0.0</td>\n",
       "    </tr>\n",
       "    <tr>\n",
       "      <th>3</th>\n",
       "      <td>0.0</td>\n",
       "      <td>1.0</td>\n",
       "    </tr>\n",
       "    <tr>\n",
       "      <th>4</th>\n",
       "      <td>0.0</td>\n",
       "      <td>1.0</td>\n",
       "    </tr>\n",
       "    <tr>\n",
       "      <th>...</th>\n",
       "      <td>...</td>\n",
       "      <td>...</td>\n",
       "    </tr>\n",
       "    <tr>\n",
       "      <th>24995</th>\n",
       "      <td>0.0</td>\n",
       "      <td>1.0</td>\n",
       "    </tr>\n",
       "    <tr>\n",
       "      <th>24996</th>\n",
       "      <td>0.0</td>\n",
       "      <td>1.0</td>\n",
       "    </tr>\n",
       "    <tr>\n",
       "      <th>24997</th>\n",
       "      <td>0.0</td>\n",
       "      <td>1.0</td>\n",
       "    </tr>\n",
       "    <tr>\n",
       "      <th>24998</th>\n",
       "      <td>0.0</td>\n",
       "      <td>0.0</td>\n",
       "    </tr>\n",
       "    <tr>\n",
       "      <th>24999</th>\n",
       "      <td>0.0</td>\n",
       "      <td>0.0</td>\n",
       "    </tr>\n",
       "  </tbody>\n",
       "</table>\n",
       "<p>25000 rows × 2 columns</p>\n",
       "</div>"
      ],
      "text/plain": [
       "        CL    D\n",
       "0      0.0  0.0\n",
       "1      0.0  0.0\n",
       "2      0.0  0.0\n",
       "3      0.0  1.0\n",
       "4      0.0  1.0\n",
       "...    ...  ...\n",
       "24995  0.0  1.0\n",
       "24996  0.0  1.0\n",
       "24997  0.0  1.0\n",
       "24998  0.0  0.0\n",
       "24999  0.0  0.0\n",
       "\n",
       "[25000 rows x 2 columns]"
      ]
     },
     "execution_count": 65,
     "metadata": {},
     "output_type": "execute_result"
    }
   ],
   "source": [
    "df_loc= pd.DataFrame(s_ohe, columns= Status.categories_)\n",
    "df_loc= df_loc.iloc[:,1:]\n",
    "df_loc"
   ]
  },
  {
   "cell_type": "code",
   "execution_count": 66,
   "metadata": {
    "id": "2ZXg7ijyYyX9"
   },
   "outputs": [],
   "source": [
    "X= df.drop(['Status', 'Stage'], axis= 1)\n",
    "y= df['Stage']"
   ]
  },
  {
   "cell_type": "code",
   "execution_count": 67,
   "metadata": {
    "id": "z0MRjXzzYyaK"
   },
   "outputs": [],
   "source": [
    "X= pd.concat([X, df_loc], axis=1)"
   ]
  },
  {
   "cell_type": "code",
   "execution_count": 68,
   "metadata": {
    "colab": {
     "base_uri": "https://localhost:8080/",
     "height": 423
    },
    "id": "6T6iVc8tRWAZ",
    "outputId": "3a85a401-3df1-46e8-cdc3-f4fbd468818d"
   },
   "outputs": [
    {
     "data": {
      "text/html": [
       "<div>\n",
       "<style scoped>\n",
       "    .dataframe tbody tr th:only-of-type {\n",
       "        vertical-align: middle;\n",
       "    }\n",
       "\n",
       "    .dataframe tbody tr th {\n",
       "        vertical-align: top;\n",
       "    }\n",
       "\n",
       "    .dataframe thead th {\n",
       "        text-align: right;\n",
       "    }\n",
       "</style>\n",
       "<table border=\"1\" class=\"dataframe\">\n",
       "  <thead>\n",
       "    <tr style=\"text-align: right;\">\n",
       "      <th></th>\n",
       "      <th>N_Days</th>\n",
       "      <th>Drug</th>\n",
       "      <th>Age</th>\n",
       "      <th>Ascites</th>\n",
       "      <th>Hepatomegaly</th>\n",
       "      <th>Spiders</th>\n",
       "      <th>Bilirubin</th>\n",
       "      <th>Cholesterol</th>\n",
       "      <th>Albumin</th>\n",
       "      <th>Copper</th>\n",
       "      <th>Alk_Phos</th>\n",
       "      <th>SGOT</th>\n",
       "      <th>Tryglicerides</th>\n",
       "      <th>Platelets</th>\n",
       "      <th>Prothrombin</th>\n",
       "      <th>(CL,)</th>\n",
       "      <th>(D,)</th>\n",
       "    </tr>\n",
       "  </thead>\n",
       "  <tbody>\n",
       "    <tr>\n",
       "      <th>0</th>\n",
       "      <td>2221</td>\n",
       "      <td>1</td>\n",
       "      <td>50</td>\n",
       "      <td>0</td>\n",
       "      <td>1</td>\n",
       "      <td>0</td>\n",
       "      <td>0.5</td>\n",
       "      <td>149.000000</td>\n",
       "      <td>4.04</td>\n",
       "      <td>97.648387</td>\n",
       "      <td>598.0</td>\n",
       "      <td>52.70</td>\n",
       "      <td>57.000000</td>\n",
       "      <td>256.0</td>\n",
       "      <td>9.9</td>\n",
       "      <td>0.0</td>\n",
       "      <td>0.0</td>\n",
       "    </tr>\n",
       "    <tr>\n",
       "      <th>1</th>\n",
       "      <td>1230</td>\n",
       "      <td>1</td>\n",
       "      <td>54</td>\n",
       "      <td>1</td>\n",
       "      <td>0</td>\n",
       "      <td>1</td>\n",
       "      <td>0.5</td>\n",
       "      <td>219.000000</td>\n",
       "      <td>3.93</td>\n",
       "      <td>22.000000</td>\n",
       "      <td>663.0</td>\n",
       "      <td>45.00</td>\n",
       "      <td>75.000000</td>\n",
       "      <td>220.0</td>\n",
       "      <td>10.8</td>\n",
       "      <td>0.0</td>\n",
       "      <td>0.0</td>\n",
       "    </tr>\n",
       "    <tr>\n",
       "      <th>2</th>\n",
       "      <td>4184</td>\n",
       "      <td>1</td>\n",
       "      <td>32</td>\n",
       "      <td>0</td>\n",
       "      <td>0</td>\n",
       "      <td>0</td>\n",
       "      <td>0.5</td>\n",
       "      <td>320.000000</td>\n",
       "      <td>3.54</td>\n",
       "      <td>51.000000</td>\n",
       "      <td>1243.0</td>\n",
       "      <td>122.45</td>\n",
       "      <td>80.000000</td>\n",
       "      <td>225.0</td>\n",
       "      <td>10.0</td>\n",
       "      <td>0.0</td>\n",
       "      <td>0.0</td>\n",
       "    </tr>\n",
       "    <tr>\n",
       "      <th>3</th>\n",
       "      <td>2090</td>\n",
       "      <td>1</td>\n",
       "      <td>45</td>\n",
       "      <td>0</td>\n",
       "      <td>0</td>\n",
       "      <td>0</td>\n",
       "      <td>0.7</td>\n",
       "      <td>255.000000</td>\n",
       "      <td>3.74</td>\n",
       "      <td>23.000000</td>\n",
       "      <td>1024.0</td>\n",
       "      <td>77.50</td>\n",
       "      <td>58.000000</td>\n",
       "      <td>151.0</td>\n",
       "      <td>10.2</td>\n",
       "      <td>0.0</td>\n",
       "      <td>1.0</td>\n",
       "    </tr>\n",
       "    <tr>\n",
       "      <th>4</th>\n",
       "      <td>2105</td>\n",
       "      <td>1</td>\n",
       "      <td>59</td>\n",
       "      <td>0</td>\n",
       "      <td>1</td>\n",
       "      <td>0</td>\n",
       "      <td>1.9</td>\n",
       "      <td>486.000000</td>\n",
       "      <td>3.54</td>\n",
       "      <td>74.000000</td>\n",
       "      <td>1052.0</td>\n",
       "      <td>108.50</td>\n",
       "      <td>109.000000</td>\n",
       "      <td>151.0</td>\n",
       "      <td>11.5</td>\n",
       "      <td>0.0</td>\n",
       "      <td>1.0</td>\n",
       "    </tr>\n",
       "    <tr>\n",
       "      <th>...</th>\n",
       "      <td>...</td>\n",
       "      <td>...</td>\n",
       "      <td>...</td>\n",
       "      <td>...</td>\n",
       "      <td>...</td>\n",
       "      <td>...</td>\n",
       "      <td>...</td>\n",
       "      <td>...</td>\n",
       "      <td>...</td>\n",
       "      <td>...</td>\n",
       "      <td>...</td>\n",
       "      <td>...</td>\n",
       "      <td>...</td>\n",
       "      <td>...</td>\n",
       "      <td>...</td>\n",
       "      <td>...</td>\n",
       "      <td>...</td>\n",
       "    </tr>\n",
       "    <tr>\n",
       "      <th>24995</th>\n",
       "      <td>3584</td>\n",
       "      <td>0</td>\n",
       "      <td>64</td>\n",
       "      <td>0</td>\n",
       "      <td>0</td>\n",
       "      <td>0</td>\n",
       "      <td>0.8</td>\n",
       "      <td>231.000000</td>\n",
       "      <td>3.87</td>\n",
       "      <td>173.000000</td>\n",
       "      <td>1828.0</td>\n",
       "      <td>127.71</td>\n",
       "      <td>96.000000</td>\n",
       "      <td>295.0</td>\n",
       "      <td>11.0</td>\n",
       "      <td>0.0</td>\n",
       "      <td>1.0</td>\n",
       "    </tr>\n",
       "    <tr>\n",
       "      <th>24996</th>\n",
       "      <td>3584</td>\n",
       "      <td>0</td>\n",
       "      <td>64</td>\n",
       "      <td>0</td>\n",
       "      <td>0</td>\n",
       "      <td>0</td>\n",
       "      <td>0.8</td>\n",
       "      <td>231.000000</td>\n",
       "      <td>3.87</td>\n",
       "      <td>173.000000</td>\n",
       "      <td>1828.0</td>\n",
       "      <td>127.71</td>\n",
       "      <td>96.000000</td>\n",
       "      <td>295.0</td>\n",
       "      <td>11.0</td>\n",
       "      <td>0.0</td>\n",
       "      <td>1.0</td>\n",
       "    </tr>\n",
       "    <tr>\n",
       "      <th>24997</th>\n",
       "      <td>971</td>\n",
       "      <td>0</td>\n",
       "      <td>45</td>\n",
       "      <td>0</td>\n",
       "      <td>1</td>\n",
       "      <td>1</td>\n",
       "      <td>5.1</td>\n",
       "      <td>369.510563</td>\n",
       "      <td>3.23</td>\n",
       "      <td>18.000000</td>\n",
       "      <td>790.0</td>\n",
       "      <td>179.80</td>\n",
       "      <td>124.702128</td>\n",
       "      <td>104.0</td>\n",
       "      <td>10.6</td>\n",
       "      <td>0.0</td>\n",
       "      <td>1.0</td>\n",
       "    </tr>\n",
       "    <tr>\n",
       "      <th>24998</th>\n",
       "      <td>3707</td>\n",
       "      <td>0</td>\n",
       "      <td>46</td>\n",
       "      <td>0</td>\n",
       "      <td>1</td>\n",
       "      <td>0</td>\n",
       "      <td>0.8</td>\n",
       "      <td>315.000000</td>\n",
       "      <td>4.24</td>\n",
       "      <td>13.000000</td>\n",
       "      <td>1637.0</td>\n",
       "      <td>170.50</td>\n",
       "      <td>70.000000</td>\n",
       "      <td>426.0</td>\n",
       "      <td>10.9</td>\n",
       "      <td>0.0</td>\n",
       "      <td>0.0</td>\n",
       "    </tr>\n",
       "    <tr>\n",
       "      <th>24999</th>\n",
       "      <td>3707</td>\n",
       "      <td>0</td>\n",
       "      <td>46</td>\n",
       "      <td>0</td>\n",
       "      <td>1</td>\n",
       "      <td>0</td>\n",
       "      <td>0.8</td>\n",
       "      <td>315.000000</td>\n",
       "      <td>4.24</td>\n",
       "      <td>13.000000</td>\n",
       "      <td>1637.0</td>\n",
       "      <td>170.50</td>\n",
       "      <td>70.000000</td>\n",
       "      <td>426.0</td>\n",
       "      <td>10.9</td>\n",
       "      <td>0.0</td>\n",
       "      <td>0.0</td>\n",
       "    </tr>\n",
       "  </tbody>\n",
       "</table>\n",
       "<p>25000 rows × 17 columns</p>\n",
       "</div>"
      ],
      "text/plain": [
       "       N_Days  Drug  Age  Ascites  Hepatomegaly  Spiders  Bilirubin  \\\n",
       "0        2221     1   50        0             1        0        0.5   \n",
       "1        1230     1   54        1             0        1        0.5   \n",
       "2        4184     1   32        0             0        0        0.5   \n",
       "3        2090     1   45        0             0        0        0.7   \n",
       "4        2105     1   59        0             1        0        1.9   \n",
       "...       ...   ...  ...      ...           ...      ...        ...   \n",
       "24995    3584     0   64        0             0        0        0.8   \n",
       "24996    3584     0   64        0             0        0        0.8   \n",
       "24997     971     0   45        0             1        1        5.1   \n",
       "24998    3707     0   46        0             1        0        0.8   \n",
       "24999    3707     0   46        0             1        0        0.8   \n",
       "\n",
       "       Cholesterol  Albumin      Copper  Alk_Phos    SGOT  Tryglicerides  \\\n",
       "0       149.000000     4.04   97.648387     598.0   52.70      57.000000   \n",
       "1       219.000000     3.93   22.000000     663.0   45.00      75.000000   \n",
       "2       320.000000     3.54   51.000000    1243.0  122.45      80.000000   \n",
       "3       255.000000     3.74   23.000000    1024.0   77.50      58.000000   \n",
       "4       486.000000     3.54   74.000000    1052.0  108.50     109.000000   \n",
       "...            ...      ...         ...       ...     ...            ...   \n",
       "24995   231.000000     3.87  173.000000    1828.0  127.71      96.000000   \n",
       "24996   231.000000     3.87  173.000000    1828.0  127.71      96.000000   \n",
       "24997   369.510563     3.23   18.000000     790.0  179.80     124.702128   \n",
       "24998   315.000000     4.24   13.000000    1637.0  170.50      70.000000   \n",
       "24999   315.000000     4.24   13.000000    1637.0  170.50      70.000000   \n",
       "\n",
       "       Platelets  Prothrombin  (CL,)  (D,)  \n",
       "0          256.0          9.9    0.0   0.0  \n",
       "1          220.0         10.8    0.0   0.0  \n",
       "2          225.0         10.0    0.0   0.0  \n",
       "3          151.0         10.2    0.0   1.0  \n",
       "4          151.0         11.5    0.0   1.0  \n",
       "...          ...          ...    ...   ...  \n",
       "24995      295.0         11.0    0.0   1.0  \n",
       "24996      295.0         11.0    0.0   1.0  \n",
       "24997      104.0         10.6    0.0   1.0  \n",
       "24998      426.0         10.9    0.0   0.0  \n",
       "24999      426.0         10.9    0.0   0.0  \n",
       "\n",
       "[25000 rows x 17 columns]"
      ]
     },
     "execution_count": 68,
     "metadata": {},
     "output_type": "execute_result"
    }
   ],
   "source": [
    "X"
   ]
  },
  {
   "cell_type": "code",
   "execution_count": 69,
   "metadata": {
    "colab": {
     "base_uri": "https://localhost:8080/"
    },
    "id": "BugaB8llYyee",
    "outputId": "0bd2f598-56de-4523-9018-3fcf5ef99552"
   },
   "outputs": [
    {
     "name": "stdout",
     "output_type": "stream",
     "text": [
      "<class 'pandas.core.frame.DataFrame'>\n",
      "RangeIndex: 25000 entries, 0 to 24999\n",
      "Data columns (total 17 columns):\n",
      " #   Column         Non-Null Count  Dtype  \n",
      "---  ------         --------------  -----  \n",
      " 0   N_Days         25000 non-null  int64  \n",
      " 1   Drug           25000 non-null  int32  \n",
      " 2   Age            25000 non-null  int32  \n",
      " 3   Ascites        25000 non-null  int32  \n",
      " 4   Hepatomegaly   25000 non-null  int32  \n",
      " 5   Spiders        25000 non-null  int32  \n",
      " 6   Bilirubin      25000 non-null  float64\n",
      " 7   Cholesterol    25000 non-null  float64\n",
      " 8   Albumin        25000 non-null  float64\n",
      " 9   Copper         25000 non-null  float64\n",
      " 10  Alk_Phos       25000 non-null  float64\n",
      " 11  SGOT           25000 non-null  float64\n",
      " 12  Tryglicerides  25000 non-null  float64\n",
      " 13  Platelets      25000 non-null  float64\n",
      " 14  Prothrombin    25000 non-null  float64\n",
      " 15  (CL,)          25000 non-null  float64\n",
      " 16  (D,)           25000 non-null  float64\n",
      "dtypes: float64(11), int32(5), int64(1)\n",
      "memory usage: 2.8 MB\n"
     ]
    }
   ],
   "source": [
    "X.info()"
   ]
  },
  {
   "cell_type": "code",
   "execution_count": 70,
   "metadata": {
    "colab": {
     "base_uri": "https://localhost:8080/",
     "height": 423
    },
    "id": "u3lhwDiYlto2",
    "outputId": "d2e8c486-7a05-4691-b0a0-a933cdfe8d8c"
   },
   "outputs": [
    {
     "data": {
      "text/html": [
       "<div>\n",
       "<style scoped>\n",
       "    .dataframe tbody tr th:only-of-type {\n",
       "        vertical-align: middle;\n",
       "    }\n",
       "\n",
       "    .dataframe tbody tr th {\n",
       "        vertical-align: top;\n",
       "    }\n",
       "\n",
       "    .dataframe thead th {\n",
       "        text-align: right;\n",
       "    }\n",
       "</style>\n",
       "<table border=\"1\" class=\"dataframe\">\n",
       "  <thead>\n",
       "    <tr style=\"text-align: right;\">\n",
       "      <th></th>\n",
       "      <th>N_Days</th>\n",
       "      <th>Status</th>\n",
       "      <th>Drug</th>\n",
       "      <th>Age</th>\n",
       "      <th>Ascites</th>\n",
       "      <th>Hepatomegaly</th>\n",
       "      <th>Spiders</th>\n",
       "      <th>Bilirubin</th>\n",
       "      <th>Cholesterol</th>\n",
       "      <th>Albumin</th>\n",
       "      <th>Copper</th>\n",
       "      <th>Alk_Phos</th>\n",
       "      <th>SGOT</th>\n",
       "      <th>Tryglicerides</th>\n",
       "      <th>Platelets</th>\n",
       "      <th>Prothrombin</th>\n",
       "      <th>Stage</th>\n",
       "    </tr>\n",
       "  </thead>\n",
       "  <tbody>\n",
       "    <tr>\n",
       "      <th>0</th>\n",
       "      <td>2221</td>\n",
       "      <td>C</td>\n",
       "      <td>1</td>\n",
       "      <td>50</td>\n",
       "      <td>0</td>\n",
       "      <td>1</td>\n",
       "      <td>0</td>\n",
       "      <td>0.5</td>\n",
       "      <td>149.000000</td>\n",
       "      <td>4.04</td>\n",
       "      <td>97.648387</td>\n",
       "      <td>598.0</td>\n",
       "      <td>52.70</td>\n",
       "      <td>57.000000</td>\n",
       "      <td>256.0</td>\n",
       "      <td>9.9</td>\n",
       "      <td>1</td>\n",
       "    </tr>\n",
       "    <tr>\n",
       "      <th>1</th>\n",
       "      <td>1230</td>\n",
       "      <td>C</td>\n",
       "      <td>1</td>\n",
       "      <td>54</td>\n",
       "      <td>1</td>\n",
       "      <td>0</td>\n",
       "      <td>1</td>\n",
       "      <td>0.5</td>\n",
       "      <td>219.000000</td>\n",
       "      <td>3.93</td>\n",
       "      <td>22.000000</td>\n",
       "      <td>663.0</td>\n",
       "      <td>45.00</td>\n",
       "      <td>75.000000</td>\n",
       "      <td>220.0</td>\n",
       "      <td>10.8</td>\n",
       "      <td>2</td>\n",
       "    </tr>\n",
       "    <tr>\n",
       "      <th>2</th>\n",
       "      <td>4184</td>\n",
       "      <td>C</td>\n",
       "      <td>1</td>\n",
       "      <td>32</td>\n",
       "      <td>0</td>\n",
       "      <td>0</td>\n",
       "      <td>0</td>\n",
       "      <td>0.5</td>\n",
       "      <td>320.000000</td>\n",
       "      <td>3.54</td>\n",
       "      <td>51.000000</td>\n",
       "      <td>1243.0</td>\n",
       "      <td>122.45</td>\n",
       "      <td>80.000000</td>\n",
       "      <td>225.0</td>\n",
       "      <td>10.0</td>\n",
       "      <td>2</td>\n",
       "    </tr>\n",
       "    <tr>\n",
       "      <th>3</th>\n",
       "      <td>2090</td>\n",
       "      <td>D</td>\n",
       "      <td>1</td>\n",
       "      <td>45</td>\n",
       "      <td>0</td>\n",
       "      <td>0</td>\n",
       "      <td>0</td>\n",
       "      <td>0.7</td>\n",
       "      <td>255.000000</td>\n",
       "      <td>3.74</td>\n",
       "      <td>23.000000</td>\n",
       "      <td>1024.0</td>\n",
       "      <td>77.50</td>\n",
       "      <td>58.000000</td>\n",
       "      <td>151.0</td>\n",
       "      <td>10.2</td>\n",
       "      <td>2</td>\n",
       "    </tr>\n",
       "    <tr>\n",
       "      <th>4</th>\n",
       "      <td>2105</td>\n",
       "      <td>D</td>\n",
       "      <td>1</td>\n",
       "      <td>59</td>\n",
       "      <td>0</td>\n",
       "      <td>1</td>\n",
       "      <td>0</td>\n",
       "      <td>1.9</td>\n",
       "      <td>486.000000</td>\n",
       "      <td>3.54</td>\n",
       "      <td>74.000000</td>\n",
       "      <td>1052.0</td>\n",
       "      <td>108.50</td>\n",
       "      <td>109.000000</td>\n",
       "      <td>151.0</td>\n",
       "      <td>11.5</td>\n",
       "      <td>1</td>\n",
       "    </tr>\n",
       "    <tr>\n",
       "      <th>...</th>\n",
       "      <td>...</td>\n",
       "      <td>...</td>\n",
       "      <td>...</td>\n",
       "      <td>...</td>\n",
       "      <td>...</td>\n",
       "      <td>...</td>\n",
       "      <td>...</td>\n",
       "      <td>...</td>\n",
       "      <td>...</td>\n",
       "      <td>...</td>\n",
       "      <td>...</td>\n",
       "      <td>...</td>\n",
       "      <td>...</td>\n",
       "      <td>...</td>\n",
       "      <td>...</td>\n",
       "      <td>...</td>\n",
       "      <td>...</td>\n",
       "    </tr>\n",
       "    <tr>\n",
       "      <th>24995</th>\n",
       "      <td>3584</td>\n",
       "      <td>D</td>\n",
       "      <td>0</td>\n",
       "      <td>64</td>\n",
       "      <td>0</td>\n",
       "      <td>0</td>\n",
       "      <td>0</td>\n",
       "      <td>0.8</td>\n",
       "      <td>231.000000</td>\n",
       "      <td>3.87</td>\n",
       "      <td>173.000000</td>\n",
       "      <td>1828.0</td>\n",
       "      <td>127.71</td>\n",
       "      <td>96.000000</td>\n",
       "      <td>295.0</td>\n",
       "      <td>11.0</td>\n",
       "      <td>2</td>\n",
       "    </tr>\n",
       "    <tr>\n",
       "      <th>24996</th>\n",
       "      <td>3584</td>\n",
       "      <td>D</td>\n",
       "      <td>0</td>\n",
       "      <td>64</td>\n",
       "      <td>0</td>\n",
       "      <td>0</td>\n",
       "      <td>0</td>\n",
       "      <td>0.8</td>\n",
       "      <td>231.000000</td>\n",
       "      <td>3.87</td>\n",
       "      <td>173.000000</td>\n",
       "      <td>1828.0</td>\n",
       "      <td>127.71</td>\n",
       "      <td>96.000000</td>\n",
       "      <td>295.0</td>\n",
       "      <td>11.0</td>\n",
       "      <td>2</td>\n",
       "    </tr>\n",
       "    <tr>\n",
       "      <th>24997</th>\n",
       "      <td>971</td>\n",
       "      <td>D</td>\n",
       "      <td>0</td>\n",
       "      <td>45</td>\n",
       "      <td>0</td>\n",
       "      <td>1</td>\n",
       "      <td>1</td>\n",
       "      <td>5.1</td>\n",
       "      <td>369.510563</td>\n",
       "      <td>3.23</td>\n",
       "      <td>18.000000</td>\n",
       "      <td>790.0</td>\n",
       "      <td>179.80</td>\n",
       "      <td>124.702128</td>\n",
       "      <td>104.0</td>\n",
       "      <td>10.6</td>\n",
       "      <td>3</td>\n",
       "    </tr>\n",
       "    <tr>\n",
       "      <th>24998</th>\n",
       "      <td>3707</td>\n",
       "      <td>C</td>\n",
       "      <td>0</td>\n",
       "      <td>46</td>\n",
       "      <td>0</td>\n",
       "      <td>1</td>\n",
       "      <td>0</td>\n",
       "      <td>0.8</td>\n",
       "      <td>315.000000</td>\n",
       "      <td>4.24</td>\n",
       "      <td>13.000000</td>\n",
       "      <td>1637.0</td>\n",
       "      <td>170.50</td>\n",
       "      <td>70.000000</td>\n",
       "      <td>426.0</td>\n",
       "      <td>10.9</td>\n",
       "      <td>2</td>\n",
       "    </tr>\n",
       "    <tr>\n",
       "      <th>24999</th>\n",
       "      <td>3707</td>\n",
       "      <td>C</td>\n",
       "      <td>0</td>\n",
       "      <td>46</td>\n",
       "      <td>0</td>\n",
       "      <td>1</td>\n",
       "      <td>0</td>\n",
       "      <td>0.8</td>\n",
       "      <td>315.000000</td>\n",
       "      <td>4.24</td>\n",
       "      <td>13.000000</td>\n",
       "      <td>1637.0</td>\n",
       "      <td>170.50</td>\n",
       "      <td>70.000000</td>\n",
       "      <td>426.0</td>\n",
       "      <td>10.9</td>\n",
       "      <td>2</td>\n",
       "    </tr>\n",
       "  </tbody>\n",
       "</table>\n",
       "<p>25000 rows × 17 columns</p>\n",
       "</div>"
      ],
      "text/plain": [
       "       N_Days Status  Drug  Age  Ascites  Hepatomegaly  Spiders  Bilirubin  \\\n",
       "0        2221      C     1   50        0             1        0        0.5   \n",
       "1        1230      C     1   54        1             0        1        0.5   \n",
       "2        4184      C     1   32        0             0        0        0.5   \n",
       "3        2090      D     1   45        0             0        0        0.7   \n",
       "4        2105      D     1   59        0             1        0        1.9   \n",
       "...       ...    ...   ...  ...      ...           ...      ...        ...   \n",
       "24995    3584      D     0   64        0             0        0        0.8   \n",
       "24996    3584      D     0   64        0             0        0        0.8   \n",
       "24997     971      D     0   45        0             1        1        5.1   \n",
       "24998    3707      C     0   46        0             1        0        0.8   \n",
       "24999    3707      C     0   46        0             1        0        0.8   \n",
       "\n",
       "       Cholesterol  Albumin      Copper  Alk_Phos    SGOT  Tryglicerides  \\\n",
       "0       149.000000     4.04   97.648387     598.0   52.70      57.000000   \n",
       "1       219.000000     3.93   22.000000     663.0   45.00      75.000000   \n",
       "2       320.000000     3.54   51.000000    1243.0  122.45      80.000000   \n",
       "3       255.000000     3.74   23.000000    1024.0   77.50      58.000000   \n",
       "4       486.000000     3.54   74.000000    1052.0  108.50     109.000000   \n",
       "...            ...      ...         ...       ...     ...            ...   \n",
       "24995   231.000000     3.87  173.000000    1828.0  127.71      96.000000   \n",
       "24996   231.000000     3.87  173.000000    1828.0  127.71      96.000000   \n",
       "24997   369.510563     3.23   18.000000     790.0  179.80     124.702128   \n",
       "24998   315.000000     4.24   13.000000    1637.0  170.50      70.000000   \n",
       "24999   315.000000     4.24   13.000000    1637.0  170.50      70.000000   \n",
       "\n",
       "       Platelets  Prothrombin  Stage  \n",
       "0          256.0          9.9      1  \n",
       "1          220.0         10.8      2  \n",
       "2          225.0         10.0      2  \n",
       "3          151.0         10.2      2  \n",
       "4          151.0         11.5      1  \n",
       "...          ...          ...    ...  \n",
       "24995      295.0         11.0      2  \n",
       "24996      295.0         11.0      2  \n",
       "24997      104.0         10.6      3  \n",
       "24998      426.0         10.9      2  \n",
       "24999      426.0         10.9      2  \n",
       "\n",
       "[25000 rows x 17 columns]"
      ]
     },
     "execution_count": 70,
     "metadata": {},
     "output_type": "execute_result"
    }
   ],
   "source": [
    "df"
   ]
  },
  {
   "cell_type": "code",
   "execution_count": 71,
   "metadata": {
    "id": "Iz5TjzBYYyhM"
   },
   "outputs": [],
   "source": [
    "X= X.values\n",
    "y= y.values"
   ]
  },
  {
   "cell_type": "code",
   "execution_count": 72,
   "metadata": {
    "colab": {
     "base_uri": "https://localhost:8080/"
    },
    "id": "chAlrlwGYykG",
    "outputId": "f53f8f00-ed03-4479-c4f9-5d77ecbc954c"
   },
   "outputs": [
    {
     "data": {
      "text/plain": [
       "(25000, 17)"
      ]
     },
     "execution_count": 72,
     "metadata": {},
     "output_type": "execute_result"
    }
   ],
   "source": [
    "X.shape"
   ]
  },
  {
   "cell_type": "code",
   "execution_count": 73,
   "metadata": {
    "colab": {
     "base_uri": "https://localhost:8080/"
    },
    "id": "cLyT7q6KYynD",
    "outputId": "c6a475f5-9d4d-4a1b-d0a3-f54bb2c6a5fb"
   },
   "outputs": [
    {
     "data": {
      "text/plain": [
       "(25000,)"
      ]
     },
     "execution_count": 73,
     "metadata": {},
     "output_type": "execute_result"
    }
   ],
   "source": [
    "y.shape"
   ]
  },
  {
   "cell_type": "code",
   "execution_count": 74,
   "metadata": {
    "id": "6beBGml1YyqS"
   },
   "outputs": [],
   "source": [
    "from sklearn.model_selection import train_test_split\n",
    "X_train,  X_test, y_train,y_test= train_test_split(X,y, test_size= 0.3, random_state= 0)"
   ]
  },
  {
   "cell_type": "code",
   "execution_count": 75,
   "metadata": {
    "colab": {
     "base_uri": "https://localhost:8080/"
    },
    "id": "ipYUyrAmaQ2T",
    "outputId": "7f5c590c-ae00-4601-c66e-c96876b85ad8"
   },
   "outputs": [
    {
     "data": {
      "text/plain": [
       "(17500, 17)"
      ]
     },
     "execution_count": 75,
     "metadata": {},
     "output_type": "execute_result"
    }
   ],
   "source": [
    "X_train.shape"
   ]
  },
  {
   "cell_type": "code",
   "execution_count": 76,
   "metadata": {
    "colab": {
     "base_uri": "https://localhost:8080/"
    },
    "id": "Q8YUi9oPaQ6I",
    "outputId": "fb18e74b-fa92-4646-e33b-f3fa5364eb68"
   },
   "outputs": [
    {
     "data": {
      "text/plain": [
       "(17500,)"
      ]
     },
     "execution_count": 76,
     "metadata": {},
     "output_type": "execute_result"
    }
   ],
   "source": [
    "y_train.shape"
   ]
  },
  {
   "cell_type": "code",
   "execution_count": 77,
   "metadata": {
    "colab": {
     "base_uri": "https://localhost:8080/"
    },
    "id": "fGJXszPbaQ-r",
    "outputId": "f66b2a89-388b-4efb-9d82-96d92a8a50e8"
   },
   "outputs": [
    {
     "data": {
      "text/plain": [
       "(7500, 17)"
      ]
     },
     "execution_count": 77,
     "metadata": {},
     "output_type": "execute_result"
    }
   ],
   "source": [
    "X_test.shape"
   ]
  },
  {
   "cell_type": "code",
   "execution_count": 78,
   "metadata": {
    "colab": {
     "base_uri": "https://localhost:8080/"
    },
    "id": "URTpCId1aRA3",
    "outputId": "98084aea-18e6-45d7-9e24-1d037191d9e4"
   },
   "outputs": [
    {
     "data": {
      "text/plain": [
       "(7500,)"
      ]
     },
     "execution_count": 78,
     "metadata": {},
     "output_type": "execute_result"
    }
   ],
   "source": [
    "y_test.shape"
   ]
  },
  {
   "cell_type": "code",
   "execution_count": 79,
   "metadata": {
    "id": "vLo7rCS-aRC9"
   },
   "outputs": [],
   "source": [
    "from sklearn.tree import DecisionTreeClassifier"
   ]
  },
  {
   "cell_type": "code",
   "execution_count": 80,
   "metadata": {
    "id": "5eshuKRnaRFd"
   },
   "outputs": [],
   "source": [
    "dt= DecisionTreeClassifier(max_depth=10)"
   ]
  },
  {
   "cell_type": "code",
   "execution_count": 81,
   "metadata": {
    "colab": {
     "base_uri": "https://localhost:8080/",
     "height": 74
    },
    "id": "ykDNaJedaRIF",
    "outputId": "dbc43def-6e9a-4933-cace-1dd2560eb384"
   },
   "outputs": [
    {
     "data": {
      "text/html": [
       "<style>#sk-container-id-1 {\n",
       "  /* Definition of color scheme common for light and dark mode */\n",
       "  --sklearn-color-text: black;\n",
       "  --sklearn-color-line: gray;\n",
       "  /* Definition of color scheme for unfitted estimators */\n",
       "  --sklearn-color-unfitted-level-0: #fff5e6;\n",
       "  --sklearn-color-unfitted-level-1: #f6e4d2;\n",
       "  --sklearn-color-unfitted-level-2: #ffe0b3;\n",
       "  --sklearn-color-unfitted-level-3: chocolate;\n",
       "  /* Definition of color scheme for fitted estimators */\n",
       "  --sklearn-color-fitted-level-0: #f0f8ff;\n",
       "  --sklearn-color-fitted-level-1: #d4ebff;\n",
       "  --sklearn-color-fitted-level-2: #b3dbfd;\n",
       "  --sklearn-color-fitted-level-3: cornflowerblue;\n",
       "\n",
       "  /* Specific color for light theme */\n",
       "  --sklearn-color-text-on-default-background: var(--sg-text-color, var(--theme-code-foreground, var(--jp-content-font-color1, black)));\n",
       "  --sklearn-color-background: var(--sg-background-color, var(--theme-background, var(--jp-layout-color0, white)));\n",
       "  --sklearn-color-border-box: var(--sg-text-color, var(--theme-code-foreground, var(--jp-content-font-color1, black)));\n",
       "  --sklearn-color-icon: #696969;\n",
       "\n",
       "  @media (prefers-color-scheme: dark) {\n",
       "    /* Redefinition of color scheme for dark theme */\n",
       "    --sklearn-color-text-on-default-background: var(--sg-text-color, var(--theme-code-foreground, var(--jp-content-font-color1, white)));\n",
       "    --sklearn-color-background: var(--sg-background-color, var(--theme-background, var(--jp-layout-color0, #111)));\n",
       "    --sklearn-color-border-box: var(--sg-text-color, var(--theme-code-foreground, var(--jp-content-font-color1, white)));\n",
       "    --sklearn-color-icon: #878787;\n",
       "  }\n",
       "}\n",
       "\n",
       "#sk-container-id-1 {\n",
       "  color: var(--sklearn-color-text);\n",
       "}\n",
       "\n",
       "#sk-container-id-1 pre {\n",
       "  padding: 0;\n",
       "}\n",
       "\n",
       "#sk-container-id-1 input.sk-hidden--visually {\n",
       "  border: 0;\n",
       "  clip: rect(1px 1px 1px 1px);\n",
       "  clip: rect(1px, 1px, 1px, 1px);\n",
       "  height: 1px;\n",
       "  margin: -1px;\n",
       "  overflow: hidden;\n",
       "  padding: 0;\n",
       "  position: absolute;\n",
       "  width: 1px;\n",
       "}\n",
       "\n",
       "#sk-container-id-1 div.sk-dashed-wrapped {\n",
       "  border: 1px dashed var(--sklearn-color-line);\n",
       "  margin: 0 0.4em 0.5em 0.4em;\n",
       "  box-sizing: border-box;\n",
       "  padding-bottom: 0.4em;\n",
       "  background-color: var(--sklearn-color-background);\n",
       "}\n",
       "\n",
       "#sk-container-id-1 div.sk-container {\n",
       "  /* jupyter's `normalize.less` sets `[hidden] { display: none; }`\n",
       "     but bootstrap.min.css set `[hidden] { display: none !important; }`\n",
       "     so we also need the `!important` here to be able to override the\n",
       "     default hidden behavior on the sphinx rendered scikit-learn.org.\n",
       "     See: https://github.com/scikit-learn/scikit-learn/issues/21755 */\n",
       "  display: inline-block !important;\n",
       "  position: relative;\n",
       "}\n",
       "\n",
       "#sk-container-id-1 div.sk-text-repr-fallback {\n",
       "  display: none;\n",
       "}\n",
       "\n",
       "div.sk-parallel-item,\n",
       "div.sk-serial,\n",
       "div.sk-item {\n",
       "  /* draw centered vertical line to link estimators */\n",
       "  background-image: linear-gradient(var(--sklearn-color-text-on-default-background), var(--sklearn-color-text-on-default-background));\n",
       "  background-size: 2px 100%;\n",
       "  background-repeat: no-repeat;\n",
       "  background-position: center center;\n",
       "}\n",
       "\n",
       "/* Parallel-specific style estimator block */\n",
       "\n",
       "#sk-container-id-1 div.sk-parallel-item::after {\n",
       "  content: \"\";\n",
       "  width: 100%;\n",
       "  border-bottom: 2px solid var(--sklearn-color-text-on-default-background);\n",
       "  flex-grow: 1;\n",
       "}\n",
       "\n",
       "#sk-container-id-1 div.sk-parallel {\n",
       "  display: flex;\n",
       "  align-items: stretch;\n",
       "  justify-content: center;\n",
       "  background-color: var(--sklearn-color-background);\n",
       "  position: relative;\n",
       "}\n",
       "\n",
       "#sk-container-id-1 div.sk-parallel-item {\n",
       "  display: flex;\n",
       "  flex-direction: column;\n",
       "}\n",
       "\n",
       "#sk-container-id-1 div.sk-parallel-item:first-child::after {\n",
       "  align-self: flex-end;\n",
       "  width: 50%;\n",
       "}\n",
       "\n",
       "#sk-container-id-1 div.sk-parallel-item:last-child::after {\n",
       "  align-self: flex-start;\n",
       "  width: 50%;\n",
       "}\n",
       "\n",
       "#sk-container-id-1 div.sk-parallel-item:only-child::after {\n",
       "  width: 0;\n",
       "}\n",
       "\n",
       "/* Serial-specific style estimator block */\n",
       "\n",
       "#sk-container-id-1 div.sk-serial {\n",
       "  display: flex;\n",
       "  flex-direction: column;\n",
       "  align-items: center;\n",
       "  background-color: var(--sklearn-color-background);\n",
       "  padding-right: 1em;\n",
       "  padding-left: 1em;\n",
       "}\n",
       "\n",
       "\n",
       "/* Toggleable style: style used for estimator/Pipeline/ColumnTransformer box that is\n",
       "clickable and can be expanded/collapsed.\n",
       "- Pipeline and ColumnTransformer use this feature and define the default style\n",
       "- Estimators will overwrite some part of the style using the `sk-estimator` class\n",
       "*/\n",
       "\n",
       "/* Pipeline and ColumnTransformer style (default) */\n",
       "\n",
       "#sk-container-id-1 div.sk-toggleable {\n",
       "  /* Default theme specific background. It is overwritten whether we have a\n",
       "  specific estimator or a Pipeline/ColumnTransformer */\n",
       "  background-color: var(--sklearn-color-background);\n",
       "}\n",
       "\n",
       "/* Toggleable label */\n",
       "#sk-container-id-1 label.sk-toggleable__label {\n",
       "  cursor: pointer;\n",
       "  display: block;\n",
       "  width: 100%;\n",
       "  margin-bottom: 0;\n",
       "  padding: 0.5em;\n",
       "  box-sizing: border-box;\n",
       "  text-align: center;\n",
       "}\n",
       "\n",
       "#sk-container-id-1 label.sk-toggleable__label-arrow:before {\n",
       "  /* Arrow on the left of the label */\n",
       "  content: \"▸\";\n",
       "  float: left;\n",
       "  margin-right: 0.25em;\n",
       "  color: var(--sklearn-color-icon);\n",
       "}\n",
       "\n",
       "#sk-container-id-1 label.sk-toggleable__label-arrow:hover:before {\n",
       "  color: var(--sklearn-color-text);\n",
       "}\n",
       "\n",
       "/* Toggleable content - dropdown */\n",
       "\n",
       "#sk-container-id-1 div.sk-toggleable__content {\n",
       "  max-height: 0;\n",
       "  max-width: 0;\n",
       "  overflow: hidden;\n",
       "  text-align: left;\n",
       "  /* unfitted */\n",
       "  background-color: var(--sklearn-color-unfitted-level-0);\n",
       "}\n",
       "\n",
       "#sk-container-id-1 div.sk-toggleable__content.fitted {\n",
       "  /* fitted */\n",
       "  background-color: var(--sklearn-color-fitted-level-0);\n",
       "}\n",
       "\n",
       "#sk-container-id-1 div.sk-toggleable__content pre {\n",
       "  margin: 0.2em;\n",
       "  border-radius: 0.25em;\n",
       "  color: var(--sklearn-color-text);\n",
       "  /* unfitted */\n",
       "  background-color: var(--sklearn-color-unfitted-level-0);\n",
       "}\n",
       "\n",
       "#sk-container-id-1 div.sk-toggleable__content.fitted pre {\n",
       "  /* unfitted */\n",
       "  background-color: var(--sklearn-color-fitted-level-0);\n",
       "}\n",
       "\n",
       "#sk-container-id-1 input.sk-toggleable__control:checked~div.sk-toggleable__content {\n",
       "  /* Expand drop-down */\n",
       "  max-height: 200px;\n",
       "  max-width: 100%;\n",
       "  overflow: auto;\n",
       "}\n",
       "\n",
       "#sk-container-id-1 input.sk-toggleable__control:checked~label.sk-toggleable__label-arrow:before {\n",
       "  content: \"▾\";\n",
       "}\n",
       "\n",
       "/* Pipeline/ColumnTransformer-specific style */\n",
       "\n",
       "#sk-container-id-1 div.sk-label input.sk-toggleable__control:checked~label.sk-toggleable__label {\n",
       "  color: var(--sklearn-color-text);\n",
       "  background-color: var(--sklearn-color-unfitted-level-2);\n",
       "}\n",
       "\n",
       "#sk-container-id-1 div.sk-label.fitted input.sk-toggleable__control:checked~label.sk-toggleable__label {\n",
       "  background-color: var(--sklearn-color-fitted-level-2);\n",
       "}\n",
       "\n",
       "/* Estimator-specific style */\n",
       "\n",
       "/* Colorize estimator box */\n",
       "#sk-container-id-1 div.sk-estimator input.sk-toggleable__control:checked~label.sk-toggleable__label {\n",
       "  /* unfitted */\n",
       "  background-color: var(--sklearn-color-unfitted-level-2);\n",
       "}\n",
       "\n",
       "#sk-container-id-1 div.sk-estimator.fitted input.sk-toggleable__control:checked~label.sk-toggleable__label {\n",
       "  /* fitted */\n",
       "  background-color: var(--sklearn-color-fitted-level-2);\n",
       "}\n",
       "\n",
       "#sk-container-id-1 div.sk-label label.sk-toggleable__label,\n",
       "#sk-container-id-1 div.sk-label label {\n",
       "  /* The background is the default theme color */\n",
       "  color: var(--sklearn-color-text-on-default-background);\n",
       "}\n",
       "\n",
       "/* On hover, darken the color of the background */\n",
       "#sk-container-id-1 div.sk-label:hover label.sk-toggleable__label {\n",
       "  color: var(--sklearn-color-text);\n",
       "  background-color: var(--sklearn-color-unfitted-level-2);\n",
       "}\n",
       "\n",
       "/* Label box, darken color on hover, fitted */\n",
       "#sk-container-id-1 div.sk-label.fitted:hover label.sk-toggleable__label.fitted {\n",
       "  color: var(--sklearn-color-text);\n",
       "  background-color: var(--sklearn-color-fitted-level-2);\n",
       "}\n",
       "\n",
       "/* Estimator label */\n",
       "\n",
       "#sk-container-id-1 div.sk-label label {\n",
       "  font-family: monospace;\n",
       "  font-weight: bold;\n",
       "  display: inline-block;\n",
       "  line-height: 1.2em;\n",
       "}\n",
       "\n",
       "#sk-container-id-1 div.sk-label-container {\n",
       "  text-align: center;\n",
       "}\n",
       "\n",
       "/* Estimator-specific */\n",
       "#sk-container-id-1 div.sk-estimator {\n",
       "  font-family: monospace;\n",
       "  border: 1px dotted var(--sklearn-color-border-box);\n",
       "  border-radius: 0.25em;\n",
       "  box-sizing: border-box;\n",
       "  margin-bottom: 0.5em;\n",
       "  /* unfitted */\n",
       "  background-color: var(--sklearn-color-unfitted-level-0);\n",
       "}\n",
       "\n",
       "#sk-container-id-1 div.sk-estimator.fitted {\n",
       "  /* fitted */\n",
       "  background-color: var(--sklearn-color-fitted-level-0);\n",
       "}\n",
       "\n",
       "/* on hover */\n",
       "#sk-container-id-1 div.sk-estimator:hover {\n",
       "  /* unfitted */\n",
       "  background-color: var(--sklearn-color-unfitted-level-2);\n",
       "}\n",
       "\n",
       "#sk-container-id-1 div.sk-estimator.fitted:hover {\n",
       "  /* fitted */\n",
       "  background-color: var(--sklearn-color-fitted-level-2);\n",
       "}\n",
       "\n",
       "/* Specification for estimator info (e.g. \"i\" and \"?\") */\n",
       "\n",
       "/* Common style for \"i\" and \"?\" */\n",
       "\n",
       ".sk-estimator-doc-link,\n",
       "a:link.sk-estimator-doc-link,\n",
       "a:visited.sk-estimator-doc-link {\n",
       "  float: right;\n",
       "  font-size: smaller;\n",
       "  line-height: 1em;\n",
       "  font-family: monospace;\n",
       "  background-color: var(--sklearn-color-background);\n",
       "  border-radius: 1em;\n",
       "  height: 1em;\n",
       "  width: 1em;\n",
       "  text-decoration: none !important;\n",
       "  margin-left: 1ex;\n",
       "  /* unfitted */\n",
       "  border: var(--sklearn-color-unfitted-level-1) 1pt solid;\n",
       "  color: var(--sklearn-color-unfitted-level-1);\n",
       "}\n",
       "\n",
       ".sk-estimator-doc-link.fitted,\n",
       "a:link.sk-estimator-doc-link.fitted,\n",
       "a:visited.sk-estimator-doc-link.fitted {\n",
       "  /* fitted */\n",
       "  border: var(--sklearn-color-fitted-level-1) 1pt solid;\n",
       "  color: var(--sklearn-color-fitted-level-1);\n",
       "}\n",
       "\n",
       "/* On hover */\n",
       "div.sk-estimator:hover .sk-estimator-doc-link:hover,\n",
       ".sk-estimator-doc-link:hover,\n",
       "div.sk-label-container:hover .sk-estimator-doc-link:hover,\n",
       ".sk-estimator-doc-link:hover {\n",
       "  /* unfitted */\n",
       "  background-color: var(--sklearn-color-unfitted-level-3);\n",
       "  color: var(--sklearn-color-background);\n",
       "  text-decoration: none;\n",
       "}\n",
       "\n",
       "div.sk-estimator.fitted:hover .sk-estimator-doc-link.fitted:hover,\n",
       ".sk-estimator-doc-link.fitted:hover,\n",
       "div.sk-label-container:hover .sk-estimator-doc-link.fitted:hover,\n",
       ".sk-estimator-doc-link.fitted:hover {\n",
       "  /* fitted */\n",
       "  background-color: var(--sklearn-color-fitted-level-3);\n",
       "  color: var(--sklearn-color-background);\n",
       "  text-decoration: none;\n",
       "}\n",
       "\n",
       "/* Span, style for the box shown on hovering the info icon */\n",
       ".sk-estimator-doc-link span {\n",
       "  display: none;\n",
       "  z-index: 9999;\n",
       "  position: relative;\n",
       "  font-weight: normal;\n",
       "  right: .2ex;\n",
       "  padding: .5ex;\n",
       "  margin: .5ex;\n",
       "  width: min-content;\n",
       "  min-width: 20ex;\n",
       "  max-width: 50ex;\n",
       "  color: var(--sklearn-color-text);\n",
       "  box-shadow: 2pt 2pt 4pt #999;\n",
       "  /* unfitted */\n",
       "  background: var(--sklearn-color-unfitted-level-0);\n",
       "  border: .5pt solid var(--sklearn-color-unfitted-level-3);\n",
       "}\n",
       "\n",
       ".sk-estimator-doc-link.fitted span {\n",
       "  /* fitted */\n",
       "  background: var(--sklearn-color-fitted-level-0);\n",
       "  border: var(--sklearn-color-fitted-level-3);\n",
       "}\n",
       "\n",
       ".sk-estimator-doc-link:hover span {\n",
       "  display: block;\n",
       "}\n",
       "\n",
       "/* \"?\"-specific style due to the `<a>` HTML tag */\n",
       "\n",
       "#sk-container-id-1 a.estimator_doc_link {\n",
       "  float: right;\n",
       "  font-size: 1rem;\n",
       "  line-height: 1em;\n",
       "  font-family: monospace;\n",
       "  background-color: var(--sklearn-color-background);\n",
       "  border-radius: 1rem;\n",
       "  height: 1rem;\n",
       "  width: 1rem;\n",
       "  text-decoration: none;\n",
       "  /* unfitted */\n",
       "  color: var(--sklearn-color-unfitted-level-1);\n",
       "  border: var(--sklearn-color-unfitted-level-1) 1pt solid;\n",
       "}\n",
       "\n",
       "#sk-container-id-1 a.estimator_doc_link.fitted {\n",
       "  /* fitted */\n",
       "  border: var(--sklearn-color-fitted-level-1) 1pt solid;\n",
       "  color: var(--sklearn-color-fitted-level-1);\n",
       "}\n",
       "\n",
       "/* On hover */\n",
       "#sk-container-id-1 a.estimator_doc_link:hover {\n",
       "  /* unfitted */\n",
       "  background-color: var(--sklearn-color-unfitted-level-3);\n",
       "  color: var(--sklearn-color-background);\n",
       "  text-decoration: none;\n",
       "}\n",
       "\n",
       "#sk-container-id-1 a.estimator_doc_link.fitted:hover {\n",
       "  /* fitted */\n",
       "  background-color: var(--sklearn-color-fitted-level-3);\n",
       "}\n",
       "</style><div id=\"sk-container-id-1\" class=\"sk-top-container\"><div class=\"sk-text-repr-fallback\"><pre>DecisionTreeClassifier(max_depth=10)</pre><b>In a Jupyter environment, please rerun this cell to show the HTML representation or trust the notebook. <br />On GitHub, the HTML representation is unable to render, please try loading this page with nbviewer.org.</b></div><div class=\"sk-container\" hidden><div class=\"sk-item\"><div class=\"sk-estimator fitted sk-toggleable\"><input class=\"sk-toggleable__control sk-hidden--visually\" id=\"sk-estimator-id-1\" type=\"checkbox\" checked><label for=\"sk-estimator-id-1\" class=\"sk-toggleable__label fitted sk-toggleable__label-arrow fitted\">&nbsp;&nbsp;DecisionTreeClassifier<a class=\"sk-estimator-doc-link fitted\" rel=\"noreferrer\" target=\"_blank\" href=\"https://scikit-learn.org/1.4/modules/generated/sklearn.tree.DecisionTreeClassifier.html\">?<span>Documentation for DecisionTreeClassifier</span></a><span class=\"sk-estimator-doc-link fitted\">i<span>Fitted</span></span></label><div class=\"sk-toggleable__content fitted\"><pre>DecisionTreeClassifier(max_depth=10)</pre></div> </div></div></div></div>"
      ],
      "text/plain": [
       "DecisionTreeClassifier(max_depth=10)"
      ]
     },
     "execution_count": 81,
     "metadata": {},
     "output_type": "execute_result"
    }
   ],
   "source": [
    "dt.fit(X_train, y_train)"
   ]
  },
  {
   "cell_type": "code",
   "execution_count": 82,
   "metadata": {
    "id": "ZOU9gh2EaRLJ"
   },
   "outputs": [],
   "source": [
    "y_pred_train= dt.predict(X_train)"
   ]
  },
  {
   "cell_type": "code",
   "execution_count": 83,
   "metadata": {
    "id": "YKGiUsq5aRO1"
   },
   "outputs": [],
   "source": [
    "from sklearn.metrics import confusion_matrix, accuracy_score, precision_score"
   ]
  },
  {
   "cell_type": "code",
   "execution_count": 84,
   "metadata": {
    "colab": {
     "base_uri": "https://localhost:8080/"
    },
    "id": "8p3qyJJraRSD",
    "outputId": "bc7a2faf-888e-4f63-ad3f-b76b791f46d1"
   },
   "outputs": [
    {
     "name": "stdout",
     "output_type": "stream",
     "text": [
      "[[4854  795  178]\n",
      " [ 554 5079  273]\n",
      " [ 221  463 5083]]\n"
     ]
    }
   ],
   "source": [
    "print(confusion_matrix(y_train, y_pred_train))"
   ]
  },
  {
   "cell_type": "code",
   "execution_count": 85,
   "metadata": {
    "colab": {
     "base_uri": "https://localhost:8080/"
    },
    "id": "O_wduS-PaRUV",
    "outputId": "09d8b7f2-d396-4858-eefa-fc277ea6948a"
   },
   "outputs": [
    {
     "name": "stdout",
     "output_type": "stream",
     "text": [
      "0.8580571428571429\n"
     ]
    }
   ],
   "source": [
    "print(accuracy_score(y_train, y_pred_train))"
   ]
  },
  {
   "cell_type": "code",
   "execution_count": 86,
   "metadata": {
    "id": "fXhhkU_ya_eD"
   },
   "outputs": [],
   "source": [
    "y_pred_test= dt.predict(X_test)"
   ]
  },
  {
   "cell_type": "code",
   "execution_count": 87,
   "metadata": {
    "colab": {
     "base_uri": "https://localhost:8080/"
    },
    "id": "U1_HK2h8a_tm",
    "outputId": "a657b3aa-1b6a-4b05-daf1-d9ef0ab4b323"
   },
   "outputs": [
    {
     "name": "stdout",
     "output_type": "stream",
     "text": [
      "[[1945  393  100]\n",
      " [ 313 2087  135]\n",
      " [ 121  243 2163]]\n"
     ]
    }
   ],
   "source": [
    "print(confusion_matrix(y_test, y_pred_test))"
   ]
  },
  {
   "cell_type": "code",
   "execution_count": 88,
   "metadata": {
    "colab": {
     "base_uri": "https://localhost:8080/"
    },
    "id": "1cRii-v8a_zo",
    "outputId": "33dc5265-45bb-4a48-8921-850961ea8801"
   },
   "outputs": [
    {
     "name": "stdout",
     "output_type": "stream",
     "text": [
      "0.826\n"
     ]
    }
   ],
   "source": [
    "print(accuracy_score(y_test, y_pred_test))"
   ]
  },
  {
   "cell_type": "code",
   "execution_count": 89,
   "metadata": {
    "id": "HfKEHBJqa_3S"
   },
   "outputs": [],
   "source": [
    "#Random forest"
   ]
  },
  {
   "cell_type": "code",
   "execution_count": 90,
   "metadata": {
    "id": "U_4a9kjJbSTf"
   },
   "outputs": [],
   "source": [
    "from sklearn.ensemble import RandomForestClassifier"
   ]
  },
  {
   "cell_type": "code",
   "execution_count": 91,
   "metadata": {
    "id": "u1yoovt1bSWf"
   },
   "outputs": [],
   "source": [
    "X_train, X_test, y_train, y_test = train_test_split(X, y, test_size=0.3, random_state=42)\n",
    "rf = RandomForestClassifier(random_state=42)"
   ]
  },
  {
   "cell_type": "code",
   "execution_count": 92,
   "metadata": {
    "id": "_bJf36uf2-KG"
   },
   "outputs": [],
   "source": [
    "from sklearn.model_selection import GridSearchCV\n",
    "from sklearn.model_selection import GridSearchCV\n"
   ]
  },
  {
   "cell_type": "code",
   "execution_count": 93,
   "metadata": {
    "id": "UDXLN470Za71"
   },
   "outputs": [],
   "source": [
    "param_grid = {\n",
    "    'n_estimators': [100, 200],\n",
    "    'max_depth': [None, 10],\n",
    "    'min_samples_split': [2, 5],\n",
    "    'min_samples_leaf': [1, 2],\n",
    "    'max_features': ['sqrt'],\n",
    "    'bootstrap': [True]\n",
    "}\n"
   ]
  },
  {
   "cell_type": "code",
   "execution_count": 94,
   "metadata": {
    "id": "yGeH7TKLZfXK"
   },
   "outputs": [],
   "source": [
    "grid_search = GridSearchCV(estimator=rf, param_grid=param_grid, cv=3, n_jobs=-1, verbose=2)\n"
   ]
  },
  {
   "cell_type": "code",
   "execution_count": 95,
   "metadata": {
    "colab": {
     "base_uri": "https://localhost:8080/",
     "height": 134
    },
    "id": "fiPgtPumaZLe",
    "outputId": "694ca18a-34b6-4d42-9961-0051239435a3"
   },
   "outputs": [
    {
     "name": "stdout",
     "output_type": "stream",
     "text": [
      "Fitting 3 folds for each of 16 candidates, totalling 48 fits\n"
     ]
    },
    {
     "data": {
      "text/html": [
       "<style>#sk-container-id-2 {\n",
       "  /* Definition of color scheme common for light and dark mode */\n",
       "  --sklearn-color-text: black;\n",
       "  --sklearn-color-line: gray;\n",
       "  /* Definition of color scheme for unfitted estimators */\n",
       "  --sklearn-color-unfitted-level-0: #fff5e6;\n",
       "  --sklearn-color-unfitted-level-1: #f6e4d2;\n",
       "  --sklearn-color-unfitted-level-2: #ffe0b3;\n",
       "  --sklearn-color-unfitted-level-3: chocolate;\n",
       "  /* Definition of color scheme for fitted estimators */\n",
       "  --sklearn-color-fitted-level-0: #f0f8ff;\n",
       "  --sklearn-color-fitted-level-1: #d4ebff;\n",
       "  --sklearn-color-fitted-level-2: #b3dbfd;\n",
       "  --sklearn-color-fitted-level-3: cornflowerblue;\n",
       "\n",
       "  /* Specific color for light theme */\n",
       "  --sklearn-color-text-on-default-background: var(--sg-text-color, var(--theme-code-foreground, var(--jp-content-font-color1, black)));\n",
       "  --sklearn-color-background: var(--sg-background-color, var(--theme-background, var(--jp-layout-color0, white)));\n",
       "  --sklearn-color-border-box: var(--sg-text-color, var(--theme-code-foreground, var(--jp-content-font-color1, black)));\n",
       "  --sklearn-color-icon: #696969;\n",
       "\n",
       "  @media (prefers-color-scheme: dark) {\n",
       "    /* Redefinition of color scheme for dark theme */\n",
       "    --sklearn-color-text-on-default-background: var(--sg-text-color, var(--theme-code-foreground, var(--jp-content-font-color1, white)));\n",
       "    --sklearn-color-background: var(--sg-background-color, var(--theme-background, var(--jp-layout-color0, #111)));\n",
       "    --sklearn-color-border-box: var(--sg-text-color, var(--theme-code-foreground, var(--jp-content-font-color1, white)));\n",
       "    --sklearn-color-icon: #878787;\n",
       "  }\n",
       "}\n",
       "\n",
       "#sk-container-id-2 {\n",
       "  color: var(--sklearn-color-text);\n",
       "}\n",
       "\n",
       "#sk-container-id-2 pre {\n",
       "  padding: 0;\n",
       "}\n",
       "\n",
       "#sk-container-id-2 input.sk-hidden--visually {\n",
       "  border: 0;\n",
       "  clip: rect(1px 1px 1px 1px);\n",
       "  clip: rect(1px, 1px, 1px, 1px);\n",
       "  height: 1px;\n",
       "  margin: -1px;\n",
       "  overflow: hidden;\n",
       "  padding: 0;\n",
       "  position: absolute;\n",
       "  width: 1px;\n",
       "}\n",
       "\n",
       "#sk-container-id-2 div.sk-dashed-wrapped {\n",
       "  border: 1px dashed var(--sklearn-color-line);\n",
       "  margin: 0 0.4em 0.5em 0.4em;\n",
       "  box-sizing: border-box;\n",
       "  padding-bottom: 0.4em;\n",
       "  background-color: var(--sklearn-color-background);\n",
       "}\n",
       "\n",
       "#sk-container-id-2 div.sk-container {\n",
       "  /* jupyter's `normalize.less` sets `[hidden] { display: none; }`\n",
       "     but bootstrap.min.css set `[hidden] { display: none !important; }`\n",
       "     so we also need the `!important` here to be able to override the\n",
       "     default hidden behavior on the sphinx rendered scikit-learn.org.\n",
       "     See: https://github.com/scikit-learn/scikit-learn/issues/21755 */\n",
       "  display: inline-block !important;\n",
       "  position: relative;\n",
       "}\n",
       "\n",
       "#sk-container-id-2 div.sk-text-repr-fallback {\n",
       "  display: none;\n",
       "}\n",
       "\n",
       "div.sk-parallel-item,\n",
       "div.sk-serial,\n",
       "div.sk-item {\n",
       "  /* draw centered vertical line to link estimators */\n",
       "  background-image: linear-gradient(var(--sklearn-color-text-on-default-background), var(--sklearn-color-text-on-default-background));\n",
       "  background-size: 2px 100%;\n",
       "  background-repeat: no-repeat;\n",
       "  background-position: center center;\n",
       "}\n",
       "\n",
       "/* Parallel-specific style estimator block */\n",
       "\n",
       "#sk-container-id-2 div.sk-parallel-item::after {\n",
       "  content: \"\";\n",
       "  width: 100%;\n",
       "  border-bottom: 2px solid var(--sklearn-color-text-on-default-background);\n",
       "  flex-grow: 1;\n",
       "}\n",
       "\n",
       "#sk-container-id-2 div.sk-parallel {\n",
       "  display: flex;\n",
       "  align-items: stretch;\n",
       "  justify-content: center;\n",
       "  background-color: var(--sklearn-color-background);\n",
       "  position: relative;\n",
       "}\n",
       "\n",
       "#sk-container-id-2 div.sk-parallel-item {\n",
       "  display: flex;\n",
       "  flex-direction: column;\n",
       "}\n",
       "\n",
       "#sk-container-id-2 div.sk-parallel-item:first-child::after {\n",
       "  align-self: flex-end;\n",
       "  width: 50%;\n",
       "}\n",
       "\n",
       "#sk-container-id-2 div.sk-parallel-item:last-child::after {\n",
       "  align-self: flex-start;\n",
       "  width: 50%;\n",
       "}\n",
       "\n",
       "#sk-container-id-2 div.sk-parallel-item:only-child::after {\n",
       "  width: 0;\n",
       "}\n",
       "\n",
       "/* Serial-specific style estimator block */\n",
       "\n",
       "#sk-container-id-2 div.sk-serial {\n",
       "  display: flex;\n",
       "  flex-direction: column;\n",
       "  align-items: center;\n",
       "  background-color: var(--sklearn-color-background);\n",
       "  padding-right: 1em;\n",
       "  padding-left: 1em;\n",
       "}\n",
       "\n",
       "\n",
       "/* Toggleable style: style used for estimator/Pipeline/ColumnTransformer box that is\n",
       "clickable and can be expanded/collapsed.\n",
       "- Pipeline and ColumnTransformer use this feature and define the default style\n",
       "- Estimators will overwrite some part of the style using the `sk-estimator` class\n",
       "*/\n",
       "\n",
       "/* Pipeline and ColumnTransformer style (default) */\n",
       "\n",
       "#sk-container-id-2 div.sk-toggleable {\n",
       "  /* Default theme specific background. It is overwritten whether we have a\n",
       "  specific estimator or a Pipeline/ColumnTransformer */\n",
       "  background-color: var(--sklearn-color-background);\n",
       "}\n",
       "\n",
       "/* Toggleable label */\n",
       "#sk-container-id-2 label.sk-toggleable__label {\n",
       "  cursor: pointer;\n",
       "  display: block;\n",
       "  width: 100%;\n",
       "  margin-bottom: 0;\n",
       "  padding: 0.5em;\n",
       "  box-sizing: border-box;\n",
       "  text-align: center;\n",
       "}\n",
       "\n",
       "#sk-container-id-2 label.sk-toggleable__label-arrow:before {\n",
       "  /* Arrow on the left of the label */\n",
       "  content: \"▸\";\n",
       "  float: left;\n",
       "  margin-right: 0.25em;\n",
       "  color: var(--sklearn-color-icon);\n",
       "}\n",
       "\n",
       "#sk-container-id-2 label.sk-toggleable__label-arrow:hover:before {\n",
       "  color: var(--sklearn-color-text);\n",
       "}\n",
       "\n",
       "/* Toggleable content - dropdown */\n",
       "\n",
       "#sk-container-id-2 div.sk-toggleable__content {\n",
       "  max-height: 0;\n",
       "  max-width: 0;\n",
       "  overflow: hidden;\n",
       "  text-align: left;\n",
       "  /* unfitted */\n",
       "  background-color: var(--sklearn-color-unfitted-level-0);\n",
       "}\n",
       "\n",
       "#sk-container-id-2 div.sk-toggleable__content.fitted {\n",
       "  /* fitted */\n",
       "  background-color: var(--sklearn-color-fitted-level-0);\n",
       "}\n",
       "\n",
       "#sk-container-id-2 div.sk-toggleable__content pre {\n",
       "  margin: 0.2em;\n",
       "  border-radius: 0.25em;\n",
       "  color: var(--sklearn-color-text);\n",
       "  /* unfitted */\n",
       "  background-color: var(--sklearn-color-unfitted-level-0);\n",
       "}\n",
       "\n",
       "#sk-container-id-2 div.sk-toggleable__content.fitted pre {\n",
       "  /* unfitted */\n",
       "  background-color: var(--sklearn-color-fitted-level-0);\n",
       "}\n",
       "\n",
       "#sk-container-id-2 input.sk-toggleable__control:checked~div.sk-toggleable__content {\n",
       "  /* Expand drop-down */\n",
       "  max-height: 200px;\n",
       "  max-width: 100%;\n",
       "  overflow: auto;\n",
       "}\n",
       "\n",
       "#sk-container-id-2 input.sk-toggleable__control:checked~label.sk-toggleable__label-arrow:before {\n",
       "  content: \"▾\";\n",
       "}\n",
       "\n",
       "/* Pipeline/ColumnTransformer-specific style */\n",
       "\n",
       "#sk-container-id-2 div.sk-label input.sk-toggleable__control:checked~label.sk-toggleable__label {\n",
       "  color: var(--sklearn-color-text);\n",
       "  background-color: var(--sklearn-color-unfitted-level-2);\n",
       "}\n",
       "\n",
       "#sk-container-id-2 div.sk-label.fitted input.sk-toggleable__control:checked~label.sk-toggleable__label {\n",
       "  background-color: var(--sklearn-color-fitted-level-2);\n",
       "}\n",
       "\n",
       "/* Estimator-specific style */\n",
       "\n",
       "/* Colorize estimator box */\n",
       "#sk-container-id-2 div.sk-estimator input.sk-toggleable__control:checked~label.sk-toggleable__label {\n",
       "  /* unfitted */\n",
       "  background-color: var(--sklearn-color-unfitted-level-2);\n",
       "}\n",
       "\n",
       "#sk-container-id-2 div.sk-estimator.fitted input.sk-toggleable__control:checked~label.sk-toggleable__label {\n",
       "  /* fitted */\n",
       "  background-color: var(--sklearn-color-fitted-level-2);\n",
       "}\n",
       "\n",
       "#sk-container-id-2 div.sk-label label.sk-toggleable__label,\n",
       "#sk-container-id-2 div.sk-label label {\n",
       "  /* The background is the default theme color */\n",
       "  color: var(--sklearn-color-text-on-default-background);\n",
       "}\n",
       "\n",
       "/* On hover, darken the color of the background */\n",
       "#sk-container-id-2 div.sk-label:hover label.sk-toggleable__label {\n",
       "  color: var(--sklearn-color-text);\n",
       "  background-color: var(--sklearn-color-unfitted-level-2);\n",
       "}\n",
       "\n",
       "/* Label box, darken color on hover, fitted */\n",
       "#sk-container-id-2 div.sk-label.fitted:hover label.sk-toggleable__label.fitted {\n",
       "  color: var(--sklearn-color-text);\n",
       "  background-color: var(--sklearn-color-fitted-level-2);\n",
       "}\n",
       "\n",
       "/* Estimator label */\n",
       "\n",
       "#sk-container-id-2 div.sk-label label {\n",
       "  font-family: monospace;\n",
       "  font-weight: bold;\n",
       "  display: inline-block;\n",
       "  line-height: 1.2em;\n",
       "}\n",
       "\n",
       "#sk-container-id-2 div.sk-label-container {\n",
       "  text-align: center;\n",
       "}\n",
       "\n",
       "/* Estimator-specific */\n",
       "#sk-container-id-2 div.sk-estimator {\n",
       "  font-family: monospace;\n",
       "  border: 1px dotted var(--sklearn-color-border-box);\n",
       "  border-radius: 0.25em;\n",
       "  box-sizing: border-box;\n",
       "  margin-bottom: 0.5em;\n",
       "  /* unfitted */\n",
       "  background-color: var(--sklearn-color-unfitted-level-0);\n",
       "}\n",
       "\n",
       "#sk-container-id-2 div.sk-estimator.fitted {\n",
       "  /* fitted */\n",
       "  background-color: var(--sklearn-color-fitted-level-0);\n",
       "}\n",
       "\n",
       "/* on hover */\n",
       "#sk-container-id-2 div.sk-estimator:hover {\n",
       "  /* unfitted */\n",
       "  background-color: var(--sklearn-color-unfitted-level-2);\n",
       "}\n",
       "\n",
       "#sk-container-id-2 div.sk-estimator.fitted:hover {\n",
       "  /* fitted */\n",
       "  background-color: var(--sklearn-color-fitted-level-2);\n",
       "}\n",
       "\n",
       "/* Specification for estimator info (e.g. \"i\" and \"?\") */\n",
       "\n",
       "/* Common style for \"i\" and \"?\" */\n",
       "\n",
       ".sk-estimator-doc-link,\n",
       "a:link.sk-estimator-doc-link,\n",
       "a:visited.sk-estimator-doc-link {\n",
       "  float: right;\n",
       "  font-size: smaller;\n",
       "  line-height: 1em;\n",
       "  font-family: monospace;\n",
       "  background-color: var(--sklearn-color-background);\n",
       "  border-radius: 1em;\n",
       "  height: 1em;\n",
       "  width: 1em;\n",
       "  text-decoration: none !important;\n",
       "  margin-left: 1ex;\n",
       "  /* unfitted */\n",
       "  border: var(--sklearn-color-unfitted-level-1) 1pt solid;\n",
       "  color: var(--sklearn-color-unfitted-level-1);\n",
       "}\n",
       "\n",
       ".sk-estimator-doc-link.fitted,\n",
       "a:link.sk-estimator-doc-link.fitted,\n",
       "a:visited.sk-estimator-doc-link.fitted {\n",
       "  /* fitted */\n",
       "  border: var(--sklearn-color-fitted-level-1) 1pt solid;\n",
       "  color: var(--sklearn-color-fitted-level-1);\n",
       "}\n",
       "\n",
       "/* On hover */\n",
       "div.sk-estimator:hover .sk-estimator-doc-link:hover,\n",
       ".sk-estimator-doc-link:hover,\n",
       "div.sk-label-container:hover .sk-estimator-doc-link:hover,\n",
       ".sk-estimator-doc-link:hover {\n",
       "  /* unfitted */\n",
       "  background-color: var(--sklearn-color-unfitted-level-3);\n",
       "  color: var(--sklearn-color-background);\n",
       "  text-decoration: none;\n",
       "}\n",
       "\n",
       "div.sk-estimator.fitted:hover .sk-estimator-doc-link.fitted:hover,\n",
       ".sk-estimator-doc-link.fitted:hover,\n",
       "div.sk-label-container:hover .sk-estimator-doc-link.fitted:hover,\n",
       ".sk-estimator-doc-link.fitted:hover {\n",
       "  /* fitted */\n",
       "  background-color: var(--sklearn-color-fitted-level-3);\n",
       "  color: var(--sklearn-color-background);\n",
       "  text-decoration: none;\n",
       "}\n",
       "\n",
       "/* Span, style for the box shown on hovering the info icon */\n",
       ".sk-estimator-doc-link span {\n",
       "  display: none;\n",
       "  z-index: 9999;\n",
       "  position: relative;\n",
       "  font-weight: normal;\n",
       "  right: .2ex;\n",
       "  padding: .5ex;\n",
       "  margin: .5ex;\n",
       "  width: min-content;\n",
       "  min-width: 20ex;\n",
       "  max-width: 50ex;\n",
       "  color: var(--sklearn-color-text);\n",
       "  box-shadow: 2pt 2pt 4pt #999;\n",
       "  /* unfitted */\n",
       "  background: var(--sklearn-color-unfitted-level-0);\n",
       "  border: .5pt solid var(--sklearn-color-unfitted-level-3);\n",
       "}\n",
       "\n",
       ".sk-estimator-doc-link.fitted span {\n",
       "  /* fitted */\n",
       "  background: var(--sklearn-color-fitted-level-0);\n",
       "  border: var(--sklearn-color-fitted-level-3);\n",
       "}\n",
       "\n",
       ".sk-estimator-doc-link:hover span {\n",
       "  display: block;\n",
       "}\n",
       "\n",
       "/* \"?\"-specific style due to the `<a>` HTML tag */\n",
       "\n",
       "#sk-container-id-2 a.estimator_doc_link {\n",
       "  float: right;\n",
       "  font-size: 1rem;\n",
       "  line-height: 1em;\n",
       "  font-family: monospace;\n",
       "  background-color: var(--sklearn-color-background);\n",
       "  border-radius: 1rem;\n",
       "  height: 1rem;\n",
       "  width: 1rem;\n",
       "  text-decoration: none;\n",
       "  /* unfitted */\n",
       "  color: var(--sklearn-color-unfitted-level-1);\n",
       "  border: var(--sklearn-color-unfitted-level-1) 1pt solid;\n",
       "}\n",
       "\n",
       "#sk-container-id-2 a.estimator_doc_link.fitted {\n",
       "  /* fitted */\n",
       "  border: var(--sklearn-color-fitted-level-1) 1pt solid;\n",
       "  color: var(--sklearn-color-fitted-level-1);\n",
       "}\n",
       "\n",
       "/* On hover */\n",
       "#sk-container-id-2 a.estimator_doc_link:hover {\n",
       "  /* unfitted */\n",
       "  background-color: var(--sklearn-color-unfitted-level-3);\n",
       "  color: var(--sklearn-color-background);\n",
       "  text-decoration: none;\n",
       "}\n",
       "\n",
       "#sk-container-id-2 a.estimator_doc_link.fitted:hover {\n",
       "  /* fitted */\n",
       "  background-color: var(--sklearn-color-fitted-level-3);\n",
       "}\n",
       "</style><div id=\"sk-container-id-2\" class=\"sk-top-container\"><div class=\"sk-text-repr-fallback\"><pre>GridSearchCV(cv=3, estimator=RandomForestClassifier(random_state=42), n_jobs=-1,\n",
       "             param_grid={&#x27;bootstrap&#x27;: [True], &#x27;max_depth&#x27;: [None, 10],\n",
       "                         &#x27;max_features&#x27;: [&#x27;sqrt&#x27;], &#x27;min_samples_leaf&#x27;: [1, 2],\n",
       "                         &#x27;min_samples_split&#x27;: [2, 5],\n",
       "                         &#x27;n_estimators&#x27;: [100, 200]},\n",
       "             verbose=2)</pre><b>In a Jupyter environment, please rerun this cell to show the HTML representation or trust the notebook. <br />On GitHub, the HTML representation is unable to render, please try loading this page with nbviewer.org.</b></div><div class=\"sk-container\" hidden><div class=\"sk-item sk-dashed-wrapped\"><div class=\"sk-label-container\"><div class=\"sk-label fitted sk-toggleable\"><input class=\"sk-toggleable__control sk-hidden--visually\" id=\"sk-estimator-id-2\" type=\"checkbox\" ><label for=\"sk-estimator-id-2\" class=\"sk-toggleable__label fitted sk-toggleable__label-arrow fitted\">&nbsp;&nbsp;GridSearchCV<a class=\"sk-estimator-doc-link fitted\" rel=\"noreferrer\" target=\"_blank\" href=\"https://scikit-learn.org/1.4/modules/generated/sklearn.model_selection.GridSearchCV.html\">?<span>Documentation for GridSearchCV</span></a><span class=\"sk-estimator-doc-link fitted\">i<span>Fitted</span></span></label><div class=\"sk-toggleable__content fitted\"><pre>GridSearchCV(cv=3, estimator=RandomForestClassifier(random_state=42), n_jobs=-1,\n",
       "             param_grid={&#x27;bootstrap&#x27;: [True], &#x27;max_depth&#x27;: [None, 10],\n",
       "                         &#x27;max_features&#x27;: [&#x27;sqrt&#x27;], &#x27;min_samples_leaf&#x27;: [1, 2],\n",
       "                         &#x27;min_samples_split&#x27;: [2, 5],\n",
       "                         &#x27;n_estimators&#x27;: [100, 200]},\n",
       "             verbose=2)</pre></div> </div></div><div class=\"sk-parallel\"><div class=\"sk-parallel-item\"><div class=\"sk-item\"><div class=\"sk-label-container\"><div class=\"sk-label fitted sk-toggleable\"><input class=\"sk-toggleable__control sk-hidden--visually\" id=\"sk-estimator-id-3\" type=\"checkbox\" ><label for=\"sk-estimator-id-3\" class=\"sk-toggleable__label fitted sk-toggleable__label-arrow fitted\">estimator: RandomForestClassifier</label><div class=\"sk-toggleable__content fitted\"><pre>RandomForestClassifier(random_state=42)</pre></div> </div></div><div class=\"sk-serial\"><div class=\"sk-item\"><div class=\"sk-estimator fitted sk-toggleable\"><input class=\"sk-toggleable__control sk-hidden--visually\" id=\"sk-estimator-id-4\" type=\"checkbox\" ><label for=\"sk-estimator-id-4\" class=\"sk-toggleable__label fitted sk-toggleable__label-arrow fitted\">&nbsp;RandomForestClassifier<a class=\"sk-estimator-doc-link fitted\" rel=\"noreferrer\" target=\"_blank\" href=\"https://scikit-learn.org/1.4/modules/generated/sklearn.ensemble.RandomForestClassifier.html\">?<span>Documentation for RandomForestClassifier</span></a></label><div class=\"sk-toggleable__content fitted\"><pre>RandomForestClassifier(random_state=42)</pre></div> </div></div></div></div></div></div></div></div></div>"
      ],
      "text/plain": [
       "GridSearchCV(cv=3, estimator=RandomForestClassifier(random_state=42), n_jobs=-1,\n",
       "             param_grid={'bootstrap': [True], 'max_depth': [None, 10],\n",
       "                         'max_features': ['sqrt'], 'min_samples_leaf': [1, 2],\n",
       "                         'min_samples_split': [2, 5],\n",
       "                         'n_estimators': [100, 200]},\n",
       "             verbose=2)"
      ]
     },
     "execution_count": 95,
     "metadata": {},
     "output_type": "execute_result"
    }
   ],
   "source": [
    "grid_search.fit(X_train, y_train)"
   ]
  },
  {
   "cell_type": "code",
   "execution_count": 96,
   "metadata": {
    "id": "Cxltfn6KbScK"
   },
   "outputs": [],
   "source": [
    "rf = RandomForestClassifier(random_state=42)\n",
    "\n",
    "# Fit the model (train the model)\n",
    "rf.fit(X_train, y_train)\n",
    "\n",
    "# Now you can make predictions\n",
    "rf_train_pred = rf.predict(X_train)\n",
    "rf_test_pred = rf.predict(X_test)\n",
    "rf_train_pred = rf.predict(X_train)"
   ]
  },
  {
   "cell_type": "code",
   "execution_count": 97,
   "metadata": {
    "colab": {
     "base_uri": "https://localhost:8080/"
    },
    "id": "8Xck1n6pbSfC",
    "outputId": "613403ef-fe43-45d0-800f-4c044136cf4c"
   },
   "outputs": [
    {
     "data": {
      "text/plain": [
       "0.9940571428571429"
      ]
     },
     "execution_count": 97,
     "metadata": {},
     "output_type": "execute_result"
    }
   ],
   "source": [
    "accuracy_score(y_train, rf_train_pred)"
   ]
  },
  {
   "cell_type": "code",
   "execution_count": 98,
   "metadata": {
    "id": "mlz1CwWDbSjE"
   },
   "outputs": [],
   "source": [
    "rf_test_pred = rf.predict(X_test)"
   ]
  },
  {
   "cell_type": "code",
   "execution_count": 99,
   "metadata": {
    "colab": {
     "base_uri": "https://localhost:8080/"
    },
    "id": "F_yCl_LsbSnM",
    "outputId": "48de9377-84cb-46e4-c4c5-2870f649fb9d"
   },
   "outputs": [
    {
     "data": {
      "text/plain": [
       "0.9530666666666666"
      ]
     },
     "execution_count": 99,
     "metadata": {},
     "output_type": "execute_result"
    }
   ],
   "source": [
    "accuracy_score(y_test, rf_test_pred)"
   ]
  },
  {
   "cell_type": "code",
   "execution_count": 100,
   "metadata": {
    "id": "GSe4p7mcbSpM"
   },
   "outputs": [],
   "source": [
    "new_data = pd.DataFrame({\n",
    "    'Hepatomegaly': [1],\n",
    "    'Age': [50],\n",
    "    'Ascites': [0],\n",
    "    'Drug': [1],\n",
    "    'Alk_Phos': [150],\n",
    "    'Spiders': [1],\n",
    "    'Status_Dead': [0],\n",
    "    'Status_Live': [1]\n",
    "})"
   ]
  },
  {
   "cell_type": "code",
   "execution_count": 101,
   "metadata": {
    "colab": {
     "base_uri": "https://localhost:8080/"
    },
    "id": "gciTL1ANbS2a",
    "outputId": "a17cdde8-e4f5-48be-a246-91a35539f235"
   },
   "outputs": [
    {
     "name": "stdout",
     "output_type": "stream",
     "text": [
      "The Stage prediction is :  [3]\n",
      "The probability of each class :  [[0.21 0.29 0.5 ]]\n"
     ]
    },
    {
     "name": "stderr",
     "output_type": "stream",
     "text": [
      "C:\\Users\\kathu\\anaconda3\\Lib\\site-packages\\sklearn\\base.py:486: UserWarning: X has feature names, but RandomForestClassifier was fitted without feature names\n",
      "  warnings.warn(\n",
      "C:\\Users\\kathu\\anaconda3\\Lib\\site-packages\\sklearn\\base.py:486: UserWarning: X has feature names, but RandomForestClassifier was fitted without feature names\n",
      "  warnings.warn(\n"
     ]
    }
   ],
   "source": [
    "# Import necessary libraries\n",
    "import pandas as pd\n",
    "from sklearn.ensemble import RandomForestClassifier\n",
    "\n",
    "# Assuming you have already trained your model\n",
    "model = RandomForestClassifier(n_estimators=100, random_state=42)\n",
    "model.fit(X_train, y_train)\n",
    "\n",
    "# New data for prediction\n",
    "new_data = pd.DataFrame({\n",
    "    'Hepatomegaly': [1],\n",
    "    'Age': [50],\n",
    "    'Ascites': [0],\n",
    "    'Drug': [1],\n",
    "    'Alk_Phos': [150],\n",
    "    'Spiders': [1],\n",
    "    'Status_Dead': [0],\n",
    "    'Status_Live': [1],\n",
    "    'N_Days': [222],\n",
    "    'Status': [0],\n",
    "    'Bilirubin': [1.2],\n",
    "    'Cholesterol': [150],\n",
    "    'Copper': [100],\n",
    "    'SGOT': [150],\n",
    "    'Tryglicerides': [150],\n",
    "    'Platelets': [150],\n",
    "    'Prothrombin': [150]\n",
    "\n",
    "})\n",
    "\n",
    "# Make predictions\n",
    "predictions = model.predict(new_data)\n",
    "print(\"The Stage prediction is : \",predictions)\n",
    "\n",
    "# If you need probabilities\n",
    "probabilities = model.predict_proba(new_data)\n",
    "print(\"The probability of each class : \",probabilities)\n"
   ]
  }
 ],
 "metadata": {
  "colab": {
   "provenance": []
  },
  "kernelspec": {
   "display_name": "Python 3 (ipykernel)",
   "language": "python",
   "name": "python3"
  },
  "language_info": {
   "codemirror_mode": {
    "name": "ipython",
    "version": 3
   },
   "file_extension": ".py",
   "mimetype": "text/x-python",
   "name": "python",
   "nbconvert_exporter": "python",
   "pygments_lexer": "ipython3",
   "version": "3.12.4"
  }
 },
 "nbformat": 4,
 "nbformat_minor": 4
}
